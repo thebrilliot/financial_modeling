{
 "cells": [
  {
   "cell_type": "markdown",
   "metadata": {},
   "source": [
    "## Extra Credit\n",
    "• Set-up: Let $S_0$ = \\\\$41.0, $K = \\$40.0$, $T = 1$ year, $σ = 30\\%$ per annum, $r = 8%$ per annum, $δ = 0$."
   ]
  },
  {
   "cell_type": "code",
   "execution_count": 2,
   "metadata": {},
   "outputs": [],
   "source": [
    "import options as opt\n",
    "import numpy as np\n",
    "spot = 41\n",
    "strike = 40\n",
    "expiry = 1\n",
    "vol = .3\n",
    "rate = .08\n",
    "div = 0."
   ]
  },
  {
   "cell_type": "markdown",
   "metadata": {},
   "source": [
    "• Price both European call and put options with the Black-Scholes model and the European Binomial\n",
    "model with $n = 200$ time steps."
   ]
  },
  {
   "cell_type": "code",
   "execution_count": 3,
   "metadata": {},
   "outputs": [],
   "source": [
    "euro = opt.european_binomial_pricer\n",
    "# amer = opt.american_binomial_pricer\n",
    "black_call = opt.black_scholes_call\n",
    "black_put = opt.black_scholes_put\n",
    "\n",
    "num = 200\n",
    "euro_call = euro(spot,strike,expiry,rate,div,vol,num,option='call')\n",
    "euro_put = euro(spot,strike,expiry,rate,div,vol,num,option='put')\n",
    "# amer_call = amer(spot,strike,expiry,rate,div,vol,num,option='call')\n",
    "# amer_put = amer(spot,strike,expiry,rate,div,vol,num,option='put')\n",
    "bs_call = black_call(spot,strike,expiry,rate,div,vol)\n",
    "bs_put = black_put(spot,strike,expiry,rate,div,vol)"
   ]
  },
  {
   "cell_type": "markdown",
   "metadata": {},
   "source": [
    "##### • Now write a function that prices the European call and put via Monte Carlo simulation.\n",
    "– The solution should use your binomial path simulation to simulate $M = 10000$ simulated paths\n",
    "through the tree.\n",
    "\n",
    "– This will give you $M$ different terminal stock prices."
   ]
  },
  {
   "cell_type": "code",
   "execution_count": 4,
   "metadata": {},
   "outputs": [],
   "source": [
    "def monte_carlo_binomial(spot,expiry,rate,div,vol,num,m) -> np.ndarray:\n",
    "    li = []\n",
    "    h = expiry/num\n",
    "    u = opt.get_u(rate,h,div,vol)\n",
    "    d = opt.get_d(rate,h,div,vol)\n",
    "    for i in range(m):\n",
    "        path = opt.binomial_path(spot,expiry,u,d,num)\n",
    "        #print(path[-1])\n",
    "        li.append(path[-1])\n",
    "    return np.array(li)\n",
    "    #return np.array([opt.binomial_path(spot,expiry,rate,div,vol,num)[-1] for i in range(m)])\n",
    "\n",
    "def monte_carlo_normal(spot,expiry,rate,div,vol,num,m) -> np.ndarray:\n",
    "    li = []\n",
    "    for i in range(m):\n",
    "        path = opt.normal_path(spot,expiry,rate,div,vol,num)\n",
    "        #print(path[-1])\n",
    "        li.append(path[-1])\n",
    "    return np.array(li)\n",
    "    #return np.array([opt.binomial_path(spot,expiry,rate,div,vol,num)[-1] for i in range(m)])"
   ]
  },
  {
   "cell_type": "markdown",
   "metadata": {},
   "source": [
    "– Get the corresponding option payoffs using the payoff function."
   ]
  },
  {
   "cell_type": "code",
   "execution_count": 4,
   "metadata": {},
   "outputs": [],
   "source": [
    "m = 10**4\n",
    "binom_stocks = monte_carlo_binomial(spot,expiry,rate,div,vol,num,m)\n",
    "normal_stocks = monte_carlo_normal(spot,expiry,rate,div,vol,num,m)\n",
    "binom_call_payoffs = opt.call_payoff(binom_stocks,strike)\n",
    "binom_put_payoffs = opt.put_payoff(binom_stocks,strike)\n",
    "normal_call_payoffs = opt.call_payoff(normal_stocks,strike)\n",
    "normal_put_payoffs = opt.put_payoff(normal_stocks,strike)"
   ]
  },
  {
   "cell_type": "markdown",
   "metadata": {},
   "source": [
    "– Take an average of the option payoffs with the Numpy method `np.mean`.\n",
    "\n",
    "– Discount this value to time zero and compare it with the Black-Scholes and European Binomial model prices."
   ]
  },
  {
   "cell_type": "code",
   "execution_count": 5,
   "metadata": {},
   "outputs": [
    {
     "name": "stdout",
     "output_type": "stream",
     "text": [
      "\t\tCall\tPut\n",
      "European\t$6.97\t$2.89\n",
      "Black-Scholes\t$6.96\t$2.89\n",
      "Binom. Sim.\t$8.33\t$2.43\n",
      "Normal Sim.\t$7.01\t$2.85\n"
     ]
    }
   ],
   "source": [
    "binom_call = binom_call_payoffs.mean()*np.exp(-rate*expiry)\n",
    "binom_put = binom_put_payoffs.mean()*np.exp(-rate*expiry)\n",
    "normal_call = normal_call_payoffs.mean()*np.exp(-rate*expiry)\n",
    "normal_put = normal_put_payoffs.mean()*np.exp(-rate*expiry)\n",
    "\n",
    "print('\\t\\tCall\\tPut')\n",
    "print(f'European\\t${euro_call:.02f}\\t${euro_put:.02f}')\n",
    "# print(f'American\\t${amer_call:.02f}\\t${amer_put:.02f}')\n",
    "print(f'Black-Scholes\\t${bs_call:.02f}\\t${bs_put:.02f}')\n",
    "print(f'Binom. Sim.\\t${binom_call:.02f}\\t${binom_put:.02f}')\n",
    "print(f'Normal Sim.\\t${normal_call:.02f}\\t${normal_put:.02f}')"
   ]
  },
  {
   "cell_type": "markdown",
   "metadata": {},
   "source": [
    "– Also calculate the standard error of the simulation with `np.std` and divide by `np.sqrt(M)`.\n",
    "\n",
    "– Repeat for $M = 25000, 50000, 75000, \\text{ and } 100000$.\n",
    "\n",
    "– Make a table to report the data (both discounted mean and standard errors)."
   ]
  },
  {
   "cell_type": "code",
   "execution_count": 6,
   "metadata": {},
   "outputs": [
    {
     "name": "stdout",
     "output_type": "stream",
     "text": [
      "Standard error for the binomial simulation is 0.14406726791697813\n",
      "Standard error for the normal simulation is 0.138278397847039\n"
     ]
    }
   ],
   "source": [
    "print(f'Standard error for the binomial simulation is {binom_stocks.std()/np.sqrt(m)}')\n",
    "print(f'Standard error for the normal simulation is {normal_stocks.std()/np.sqrt(m)}')"
   ]
  },
  {
   "cell_type": "code",
   "execution_count": 7,
   "metadata": {},
   "outputs": [
    {
     "name": "stdout",
     "output_type": "stream",
     "text": [
      "4.075346144534571\n",
      "5.897855445965042\n",
      "4.161096793986321\n"
     ]
    }
   ],
   "source": [
    "# We're not sure why this doesn't satisfy put-call parity\n",
    "# The payoff functions haven't changed\n",
    "# We've followed the instructions exactly\n",
    "print(opt.parity(spot,strike,expiry,rate))\n",
    "print(abs(binom_call-binom_put))\n",
    "print(abs(normal_call-normal_put))"
   ]
  },
  {
   "cell_type": "markdown",
   "metadata": {},
   "source": [
    "– Repeat for $M = 25000, 50000, 75000, \\text{ and } 100000$.\n",
    "\n",
    "– Make a table to report the data (both discounted mean and standard errors)."
   ]
  },
  {
   "cell_type": "code",
   "execution_count": 6,
   "metadata": {},
   "outputs": [
    {
     "name": "stdout",
     "output_type": "stream",
     "text": [
      "M\tCall\tPut\tStd Error\n",
      "44.60258598922652\n",
      "10000\t$7.13\t$2.88\t0.13910062396316902\n",
      "44.298719407481805\n",
      "25000\t$6.87\t$2.90\t0.08571327209144537\n",
      "44.4124268835134\n",
      "50000\t$6.96\t$2.89\t0.06103422170208306\n",
      "44.41822655069169\n",
      "75000\t$6.95\t$2.87\t0.04956876169453896\n",
      "44.40749919108667\n",
      "100000\t$6.96\t$2.89\t0.04305000029383649\n"
     ]
    }
   ],
   "source": [
    "# Here you can run both binomial and normally distributed move factors to compare\n",
    "ms = [10000,25000,50000,75000,100000]\n",
    "print('M\\tCall\\tPut\\tStd Error')\n",
    "for m in ms:\n",
    "    #  stock_prices = monte_carlo_binomial(spot,expiry,rate,div,vol,num,m)\n",
    "    stock_prices = monte_carlo_normal(spot,expiry,rate,div,vol,num,m)\n",
    "    print(stock_prices.mean())\n",
    "    call_payoffs = opt.call_payoff(stock_prices,strike)\n",
    "    put_payoffs = opt.put_payoff(stock_prices,strike)\n",
    "    \n",
    "    call_price = call_payoffs.mean() * np.exp(-rate*expiry)\n",
    "    put_price = put_payoffs.mean() * np.exp(-rate*expiry)\n",
    "    \n",
    "    std_error = stock_prices.std()/np.sqrt(m)\n",
    "    print(f'{m}\\t${call_price:.02f}\\t${put_price:.02f}\\t{std_error}')"
   ]
  },
  {
   "cell_type": "markdown",
   "metadata": {},
   "source": [
    "We haven't been able to figure out why the Monte-Carlo simulation doesn't converge to the other values. The simulation also isn't satisfying put-call parity for some reason which is concerning. There is a paper from the 70s that concludes that Monte-Carlo simulations are biased because of the imperfections in pseudo-random number generators. The other possibility is that there aren't enough intermediate steps (`num`/`nper` is not high enough) because the move factors are discrete they take on values that are too extreme. If this is the case, then by the Central Limit Theorem substantially increasing `num` will smooth this out although the few runs with `num` did not change much.\n",
    "\n",
    "The `binomial_path` function seems to be biased upwards, for what reason we cannot say. However, the mean stock price seems to be about \\\\$2.00 higher than that of `normal_path`.\n",
    "\n",
    "We included another function similar to `binomial_path` called `normal_path` that uses move factors generated with a normally distributed random variable to sidestep this problem. As you can see (simply comment out the function you are not using), this will converge to the prices given by the European Binomial and Black-Scholes models."
   ]
  },
  {
   "cell_type": "code",
   "execution_count": 21,
   "metadata": {},
   "outputs": [
    {
     "name": "stdout",
     "output_type": "stream",
     "text": [
      "[74.6781323  52.81404438 37.3512727  26.41565494]\n",
      "[52.81404438 37.3512727  37.3512727  37.3512727  52.81404438 37.3512727\n",
      " 52.81404438 52.81404438 52.81404438 37.3512727 ]\n"
     ]
    }
   ],
   "source": [
    "expiry = 1\n",
    "num = 3\n",
    "rate = .08\n",
    "div = 0\n",
    "vol = .3\n",
    "m = 10\n",
    "\n",
    "h = expiry/num\n",
    "u = opt.get_u(rate,h,div,vol)\n",
    "d = opt.get_d(rate,h,div,vol)\n",
    "\n",
    "print(opt.future_stocks(spot,u,d,num)) # Stock prices at time = 1 after 3 binomial periods\n",
    "print(monte_carlo_binomial(spot,expiry,rate,div,vol,num,m)) # Stock prices produced by binomial_path"
   ]
  },
  {
   "cell_type": "markdown",
   "metadata": {},
   "source": [
    "As you can see, the stock prices that the `binomial_path` function generates are consistent with the possible stock prices along the binomial tree."
   ]
  },
  {
   "cell_type": "code",
   "execution_count": 20,
   "metadata": {},
   "outputs": [
    {
     "name": "stdout",
     "output_type": "stream",
     "text": [
      "7.073853261277716\n",
      "8.432380663700624\n"
     ]
    }
   ],
   "source": [
    "print(euro(spot,strike,expiry,rate,div,vol,num,option='call'))\n",
    "stock_prices = monte_carlo_binomial(spot,expiry,rate,div,vol,num,m=100000)\n",
    "call_payoffs = opt.call_payoff(stock_prices,strike)\n",
    "call_price = call_payoffs.mean() * np.exp(-rate*expiry)\n",
    "print(call_price)"
   ]
  },
  {
   "cell_type": "markdown",
   "metadata": {},
   "source": [
    "And still this method of pricing calls returns values that are much too high"
   ]
  },
  {
   "cell_type": "code",
   "execution_count": null,
   "metadata": {},
   "outputs": [],
   "source": []
  }
 ],
 "metadata": {
  "kernelspec": {
   "display_name": "Python 3",
   "language": "python",
   "name": "python3"
  },
  "language_info": {
   "codemirror_mode": {
    "name": "ipython",
    "version": 3
   },
   "file_extension": ".py",
   "mimetype": "text/x-python",
   "name": "python",
   "nbconvert_exporter": "python",
   "pygments_lexer": "ipython3",
   "version": "3.7.7"
  }
 },
 "nbformat": 4,
 "nbformat_minor": 4
}
