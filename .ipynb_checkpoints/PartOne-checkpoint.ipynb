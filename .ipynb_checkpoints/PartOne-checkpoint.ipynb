{
 "cells": [
  {
   "cell_type": "markdown",
   "metadata": {},
   "source": [
    "## Part I"
   ]
  },
  {
   "cell_type": "markdown",
   "metadata": {},
   "source": [
    "### Problem 1"
   ]
  },
  {
   "cell_type": "markdown",
   "metadata": {},
   "source": [
    "##### a) We should have the european_binomial_pricer function finished already so we import it from options.py"
   ]
  },
  {
   "cell_type": "code",
   "execution_count": 1,
   "metadata": {},
   "outputs": [],
   "source": [
    "import numpy as np\n",
    "import options as opt\n",
    "import matplotlib.pyplot as plt\n",
    "euro = opt.european_binomial_pricer"
   ]
  },
  {
   "cell_type": "code",
   "execution_count": 2,
   "metadata": {},
   "outputs": [],
   "source": [
    "spot = 100\n",
    "strike = 105\n",
    "expiry = 1 # 1 year\n",
    "rate = .08 # 8 percent\n",
    "div = 0.\n",
    "num = 1\n",
    "vol = .2 # 20 percent"
   ]
  },
  {
   "cell_type": "markdown",
   "metadata": {},
   "source": [
    "##### b) We then run these through our `european_binomial_pricer` function and check it against a 'handwritten' solution."
   ]
  },
  {
   "cell_type": "code",
   "execution_count": 3,
   "metadata": {},
   "outputs": [
    {
     "name": "stdout",
     "output_type": "stream",
     "text": [
      "Price of a call:$11.35\n",
      "Price of a put:\t$8.28\n",
      "These are identical to our handwritten calculations, $11.35 and $8.28.\n",
      "(See Final hand written solutions.xlsx)\n"
     ]
    }
   ],
   "source": [
    "\n",
    "euro_call = euro(spot,strike,expiry,rate,div,vol,num,option='call')\n",
    "euro_put = euro(spot,strike,expiry,rate,div,vol,num,option='put')\n",
    "print(f'Price of a call:${euro_call:.02f}')\n",
    "print(f'Price of a put:\\t${euro_put:.02f}')\n",
    "print(f'These are identical to our handwritten calculations, $11.35 and $8.28.')\n",
    "print('(See Final hand written solutions.xlsx)')"
   ]
  },
  {
   "cell_type": "markdown",
   "metadata": {},
   "source": [
    "##### c) Change `num` to 3 and check again against another handwritten solution."
   ]
  },
  {
   "cell_type": "code",
   "execution_count": 4,
   "metadata": {},
   "outputs": [],
   "source": [
    "num = 3\n",
    "euro_call = euro(spot,strike,expiry,rate,div,vol,num,option='call')\n",
    "euro_put = euro(spot,strike,expiry,rate,div,vol,num,option='put')"
   ]
  },
  {
   "cell_type": "code",
   "execution_count": 5,
   "metadata": {},
   "outputs": [
    {
     "name": "stdout",
     "output_type": "stream",
     "text": [
      "With 3 periods:\n",
      "Call price:\t$10.04\n",
      "Put price:\t$6.97\n",
      "These are identical to our handwritten calculations, $10.04 and $6.97.\n",
      "(See Final hand written solutions.xlsx)\n"
     ]
    }
   ],
   "source": [
    "print(f'With 3 periods:')\n",
    "print(f'Call price:\\t${euro_call:.02f}')\n",
    "print(f'Put price:\\t${euro_put:.02f}')\n",
    "print(f'These are identical to our handwritten calculations, $10.04 and $6.97.')\n",
    "print(f'(See Final hand written solutions.xlsx)')"
   ]
  },
  {
   "cell_type": "markdown",
   "metadata": {},
   "source": [
    "##### d) Change `num` to 200 and see what happens"
   ]
  },
  {
   "cell_type": "code",
   "execution_count": 6,
   "metadata": {},
   "outputs": [
    {
     "name": "stdout",
     "output_type": "stream",
     "text": [
      "9.471909781165543 6.39912615176046\n"
     ]
    }
   ],
   "source": [
    "num = 200\n",
    "euro_call = euro(spot,strike,expiry,rate,div,vol,num,option='call')\n",
    "euro_put = euro(spot,strike,expiry,rate,div,vol,num,option='put')\n",
    "print(euro_call,euro_put)"
   ]
  },
  {
   "cell_type": "code",
   "execution_count": 7,
   "metadata": {},
   "outputs": [
    {
     "name": "stdout",
     "output_type": "stream",
     "text": [
      "With 200 periods:\n",
      "Call price:\t$9.47\n",
      "Put price:\t$6.40\n"
     ]
    }
   ],
   "source": [
    "print(f'With 200 periods:')\n",
    "print(f'Call price:\\t${euro_call:.02f}')\n",
    "print(f'Put price:\\t${euro_put:.02f}')"
   ]
  },
  {
   "cell_type": "markdown",
   "metadata": {},
   "source": [
    "### Problem 2"
   ]
  },
  {
   "cell_type": "markdown",
   "metadata": {},
   "source": [
    "##### a) Using the Black-Scholes model (Chapter 12), price the options again with functions in the `options` module"
   ]
  },
  {
   "cell_type": "code",
   "execution_count": 8,
   "metadata": {},
   "outputs": [
    {
     "name": "stdout",
     "output_type": "stream",
     "text": [
      "Call price:\t$9.47\n",
      "Put price:\t$6.40\n"
     ]
    }
   ],
   "source": [
    "black_call = opt.black_scholes_call\n",
    "black_put = opt.black_scholes_put\n",
    "bs_call = black_call(spot,strike,expiry,rate,div,vol)\n",
    "bs_put = black_put(spot,strike,expiry,rate,div,vol)\n",
    "print(f'Call price:\\t${bs_call:.02f}')\n",
    "print(f'Put price:\\t${bs_put:.02f}')"
   ]
  },
  {
   "cell_type": "markdown",
   "metadata": {},
   "source": [
    "##### b) Use the `european_binomial_pricer` function with the following values: n = 20, 40, 60, 80, . . . , 200 (i.e. increment by 20). Compare to the Black-Scholes prices obtained above. Make a table to report the results. What can you say about the European Binomial model relative to the Black-Scholes model?"
   ]
  },
  {
   "cell_type": "code",
   "execution_count": 9,
   "metadata": {},
   "outputs": [
    {
     "name": "stdout",
     "output_type": "stream",
     "text": [
      "Black-Scholes Model produces $9.47 and $6.40\n",
      "n\tEuropean Call\tEuropean Put\n",
      "20\t$9.55\t\t$6.48\n",
      "40\t$9.52\t\t$6.45\n",
      "60\t$9.50\t\t$6.43\n",
      "80\t$9.49\t\t$6.42\n",
      "100\t$9.48\t\t$6.41\n",
      "120\t$9.47\t\t$6.40\n",
      "140\t$9.47\t\t$6.40\n",
      "160\t$9.46\t\t$6.39\n",
      "180\t$9.47\t\t$6.39\n",
      "200\t$9.47\t\t$6.40\n"
     ]
    }
   ],
   "source": [
    "euro_calls = np.array([euro(spot,strike,expiry,rate,div,vol,num,option='call') for num in range(20,220,20)])\n",
    "euro_puts = np.array([euro(spot,strike,expiry,rate,div,vol,num,option='put') for num in range(20,220,20)])\n",
    "#print(euro_calls)\n",
    "#print(euro_puts)\n",
    "print(f'Black-Scholes Model produces ${bs_call:.02f} and ${bs_put:.02f}')\n",
    "print(f'n\\tEuropean Call\\tEuropean Put')\n",
    "for i, n in enumerate(range(20,220,20)):\n",
    "    print(f'{n}\\t${euro_calls[i]:.2f}\\t\\t${euro_puts[i]:.2f}')"
   ]
  },
  {
   "cell_type": "markdown",
   "metadata": {},
   "source": [
    "##### Discuss the convergence of the European Binomial to the Black-Scholes model."
   ]
  },
  {
   "cell_type": "markdown",
   "metadata": {},
   "source": [
    "The European Binomial model seems to oscilate around the value of the Black-Scholes model and converge as we add more intermediate periods to the binomial tree."
   ]
  },
  {
   "cell_type": "code",
   "execution_count": null,
   "metadata": {},
   "outputs": [],
   "source": []
  }
 ],
 "metadata": {
  "kernelspec": {
   "display_name": "Python 3",
   "language": "python",
   "name": "python3"
  },
  "language_info": {
   "codemirror_mode": {
    "name": "ipython",
    "version": 3
   },
   "file_extension": ".py",
   "mimetype": "text/x-python",
   "name": "python",
   "nbconvert_exporter": "python",
   "pygments_lexer": "ipython3",
   "version": "3.7.7"
  }
 },
 "nbformat": 4,
 "nbformat_minor": 4
}
