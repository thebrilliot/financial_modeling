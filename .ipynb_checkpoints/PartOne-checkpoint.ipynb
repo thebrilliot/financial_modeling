{
 "cells": [
  {
   "cell_type": "markdown",
   "metadata": {},
   "source": [
    "## Part I"
   ]
  },
  {
   "cell_type": "markdown",
   "metadata": {},
   "source": [
    "### Problem 1"
   ]
  },
  {
   "cell_type": "markdown",
   "metadata": {},
   "source": [
    "##### a) We should have the european_binomial_pricer function finished already so we import it from options.py"
   ]
  },
  {
   "cell_type": "code",
   "execution_count": 1,
   "metadata": {},
   "outputs": [],
   "source": [
    "import numpy as np\n",
    "import options as opt\n",
    "euro = opt.european_binomial_pricer"
   ]
  },
  {
   "cell_type": "code",
   "execution_count": 2,
   "metadata": {},
   "outputs": [
    {
     "name": "stdout",
     "output_type": "stream",
     "text": [
      "10.836859913068979 7.76407628366573\n"
     ]
    }
   ],
   "source": [
    "spot = 100\n",
    "strike = 105\n",
    "expiry = 1 # 1 year\n",
    "rate = .08 # 8 percent\n",
    "div = 0.\n",
    "num = 1\n",
    "vol = .2 # 20 percent\n",
    "call_price = euro(spot,strike,expiry,rate,div,vol,num,option='call')\n",
    "put_price = euro(spot,strike,expiry,rate,div,vol,num,option='put')\n",
    "print(call_price, put_price)"
   ]
  },
  {
   "cell_type": "markdown",
   "metadata": {},
   "source": [
    "##### b) We then run these through our `european_binomial_pricer` function and check it against a 'handwritten' solution."
   ]
  },
  {
   "cell_type": "code",
   "execution_count": 3,
   "metadata": {},
   "outputs": [
    {
     "name": "stdout",
     "output_type": "stream",
     "text": [
      "The european_binomial_pricer function gives us a call price of $10.84 and a put price of $7.76 which are identical to our handwritten calculations, $XX.XX and $YY.YY\n"
     ]
    }
   ],
   "source": [
    "str1 = f'The european_binomial_pricer function gives us a call price of ${call_price:.02f}'\n",
    "str2 = f' and a put price of ${put_price:.02f}'\n",
    "str3 = f' which are identical to our handwritten calculations, $XX.XX and $YY.YY'\n",
    "print(str1+str2+str3)"
   ]
  },
  {
   "cell_type": "markdown",
   "metadata": {},
   "source": [
    "##### c) Change `num` to 3 and check again against another handwritten solution."
   ]
  },
  {
   "cell_type": "code",
   "execution_count": 4,
   "metadata": {},
   "outputs": [
    {
     "name": "stdout",
     "output_type": "stream",
     "text": [
      "9.89430177233179 6.82151814292856\n"
     ]
    }
   ],
   "source": [
    "num = 3\n",
    "call_price = euro(spot,strike,expiry,rate,div,vol,num,option='call')\n",
    "put_price = euro(spot,strike,expiry,rate,div,vol,num,option='put')\n",
    "print(call_price,put_price)"
   ]
  },
  {
   "cell_type": "markdown",
   "metadata": {},
   "source": [
    "##### d) Change `num` to 200 and see what happens"
   ]
  },
  {
   "cell_type": "code",
   "execution_count": 5,
   "metadata": {},
   "outputs": [
    {
     "name": "stdout",
     "output_type": "stream",
     "text": [
      "9.473848812272832 6.401065182867753\n"
     ]
    }
   ],
   "source": [
    "num = 200\n",
    "call_price = euro(spot,strike,expiry,rate,div,vol,num,option='call')\n",
    "put_price = euro(spot,strike,expiry,rate,div,vol,num,option='put')\n",
    "print(call_price,put_price)"
   ]
  },
  {
   "cell_type": "markdown",
   "metadata": {},
   "source": [
    "### Problem 2"
   ]
  },
  {
   "cell_type": "markdown",
   "metadata": {},
   "source": [
    "##### a) Using the Black-Scholes model (Chapter 12), price the options again with functions in the `options` module"
   ]
  },
  {
   "cell_type": "code",
   "execution_count": 6,
   "metadata": {},
   "outputs": [
    {
     "name": "stdout",
     "output_type": "stream",
     "text": [
      "8.65018212986152 5.577398500458276\n"
     ]
    }
   ],
   "source": [
    "bs_call = opt.black_scholes_call\n",
    "bs_put = opt.black_scholes_put\n",
    "call = bs_call(spot,strike,expiry,rate,div,vol)\n",
    "put = bs_put(spot,strike,expiry,rate,div,vol)\n",
    "print(call,put)"
   ]
  },
  {
   "cell_type": "markdown",
   "metadata": {},
   "source": [
    "##### b) Use the `european_binomial_pricer` function with the following values: n = 20, 40, 60, 80, . . . , 200 (i.e. increment by 20). Compare to the Black-Scholes prices obtained above. Make a table to report the results. What can you say about the European Binomial model relative to the Black-Scholes model?"
   ]
  },
  {
   "cell_type": "code",
   "execution_count": 7,
   "metadata": {},
   "outputs": [
    {
     "name": "stdout",
     "output_type": "stream",
     "text": [
      "[9.54440145 9.51551768 9.4970364  9.48436938 9.47502078 9.4677547\n",
      " 9.46189385 9.46414284 9.4699796  9.47384881 9.47639545 9.4780272\n",
      " 9.47901165 9.47952993 9.47970781 9.4796346  9.47937483 9.47897589\n",
      " 9.47847307 9.47789292 9.47725563 9.47657669 9.47586805 9.47513899\n",
      " 9.47439675]\n",
      "[6.47161782 6.44273405 6.42425277 6.41158575 6.40223715 6.39497107\n",
      " 6.38911022 6.39135921 6.39719597 6.40106518 6.40361182 6.40524358\n",
      " 6.40622803 6.4067463  6.40692418 6.40685097 6.4065912  6.40619226\n",
      " 6.40568944 6.40510929 6.404472   6.40379306 6.40308442 6.40235536\n",
      " 6.40161313]\n"
     ]
    }
   ],
   "source": [
    "euro_calls = np.array([euro(spot,strike,expiry,rate,div,vol,num,option='call') for num in range(20,520,20)])\n",
    "euro_puts = np.array([euro(spot,strike,expiry,rate,div,vol,num,option='put') for num in range(20,520,20)])\n",
    "print(euro_calls)\n",
    "print(euro_puts)"
   ]
  },
  {
   "cell_type": "markdown",
   "metadata": {},
   "source": [
    "##### Discuss the convergence of the European Binomial to the Black-Scholes model."
   ]
  },
  {
   "cell_type": "markdown",
   "metadata": {},
   "source": [
    "It doesn't look like they do converge..."
   ]
  },
  {
   "cell_type": "code",
   "execution_count": null,
   "metadata": {},
   "outputs": [],
   "source": []
  }
 ],
 "metadata": {
  "kernelspec": {
   "display_name": "Python 3",
   "language": "python",
   "name": "python3"
  },
  "language_info": {
   "codemirror_mode": {
    "name": "ipython",
    "version": 3
   },
   "file_extension": ".py",
   "mimetype": "text/x-python",
   "name": "python",
   "nbconvert_exporter": "python",
   "pygments_lexer": "ipython3",
   "version": "3.7.7"
  }
 },
 "nbformat": 4,
 "nbformat_minor": 4
}
