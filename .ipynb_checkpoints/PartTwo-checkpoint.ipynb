{
 "cells": [
  {
   "cell_type": "markdown",
   "metadata": {},
   "source": [
    "## Part II: The American Binomial Option Pricing Model\n",
    "\n",
    "### Problem 1\n",
    "\n",
    "Using the functions `european_binomial_call` and `european_binomial_put` as starting points, implement the functions `american_binomial_call` and `american_binomial_put`. These functions should solve the optimal stopping problem implicit in the American option pricing problem. Write your solutions in the `options.py` module. This step is to be completed before you import the module for the problems below.\n",
    "\n",
    "### Problem 2\n",
    "Set-up: Let $S_0 = \\$100$, $K = \\$95$, $r = 8\\%$ (continuously compounded), $\\sigma = 30\\%$, $\\delta = 0$, $T = 1$ year,\n",
    "and $n = 3$."
   ]
  },
  {
   "cell_type": "code",
   "execution_count": 1,
   "metadata": {},
   "outputs": [],
   "source": [
    "import options as opt\n",
    "spot = 100\n",
    "strike = 95\n",
    "rate = .08\n",
    "vol = .3\n",
    "div = 0.\n",
    "expiry = 1\n",
    "num = 3"
   ]
  },
  {
   "cell_type": "markdown",
   "metadata": {},
   "source": [
    "##### (a) Verify that the binomial option price for an American call option is \\$18.283. Verify that there is never early exercise; hence a European call would have the same price. Compare your Python solution to a hand-written solution."
   ]
  },
  {
   "cell_type": "code",
   "execution_count": 2,
   "metadata": {},
   "outputs": [
    {
     "name": "stdout",
     "output_type": "stream",
     "text": [
      "18.28255220737056 18.28255220737056\n"
     ]
    }
   ],
   "source": [
    "# Could there be errors in this part of the problem?\n",
    "# My call values are off by only one digit\n",
    "\n",
    "euro = opt.european_binomial_pricer\n",
    "amer = opt.american_binomial_pricer\n",
    "\n",
    "euro_call = euro(spot,strike,expiry,rate,div,vol,num,option='call')\n",
    "amer_call = amer(spot,strike,expiry,rate,div,vol,num,option='call')\n",
    "\n",
    "print(euro_call, amer_call)"
   ]
  },
  {
   "cell_type": "markdown",
   "metadata": {},
   "source": [
    "##### (b) Show that the binomial option price for a European put option is $5.979. Verify that put-call parity is satisfied."
   ]
  },
  {
   "cell_type": "code",
   "execution_count": 3,
   "metadata": {},
   "outputs": [
    {
     "name": "stdout",
     "output_type": "stream",
     "text": [
      "5.97860511410097\n",
      "12.3039470932696\n",
      "12.30394709326959\n"
     ]
    }
   ],
   "source": [
    "euro_put = euro(spot,strike,expiry,rate,div,vol,num,option='put')\n",
    "print(euro_put)\n",
    "print(opt.parity(spot,strike,expiry,rate))\n",
    "print(euro_call - euro_put)"
   ]
  },
  {
   "cell_type": "markdown",
   "metadata": {},
   "source": [
    "##### (c) Verify that the price of an American put is \\$6.678."
   ]
  },
  {
   "cell_type": "code",
   "execution_count": 4,
   "metadata": {},
   "outputs": [
    {
     "name": "stdout",
     "output_type": "stream",
     "text": [
      "6.677901227132065\n"
     ]
    }
   ],
   "source": [
    "# This was the price of the option in part (b)\n",
    "amer_put = amer(spot,strike,expiry,rate,div,vol,num,option='put')\n",
    "print(amer_put)"
   ]
  },
  {
   "cell_type": "markdown",
   "metadata": {},
   "source": [
    "##### (d) Repeat each of the above for $n = 200$. How can you be sure there is never early exercise of the American call from part (a)? DO NOT attempt to solve this part by hand!"
   ]
  },
  {
   "cell_type": "code",
   "execution_count": 5,
   "metadata": {},
   "outputs": [
    {
     "name": "stdout",
     "output_type": "stream",
     "text": [
      "18.382058262462763 6.078111169191284\n",
      "18.382058262462763 6.6849031232033065\n",
      "True\n",
      "We can be sure that the call option is never exercised early because the European and American calls have exactly the same price.\n"
     ]
    }
   ],
   "source": [
    "num = 200\n",
    "\n",
    "euro_call = euro(spot,strike,expiry,rate,div,vol,num,option='call')\n",
    "euro_put = euro(spot,strike,expiry,rate,div,vol,num,option='put')\n",
    "\n",
    "amer_call = amer(spot,strike,expiry,rate,div,vol,num,option='call')\n",
    "amer_put = amer(spot,strike,expiry,rate,div,vol,num,option='put')\n",
    "\n",
    "print(euro_call, euro_put)\n",
    "print(amer_call, amer_put)\n",
    "print(euro_call == amer_call)\n",
    "print(\"We can be sure that the call option is never exercised early because the European and American calls have exactly the same price.\")"
   ]
  },
  {
   "cell_type": "markdown",
   "metadata": {},
   "source": [
    "### Problem 3\n",
    "\n",
    "##### Repeat the previous problem assuming that the stock pays a continuous dividend of 8\\% per year (continuously compounded)."
   ]
  },
  {
   "cell_type": "code",
   "execution_count": 6,
   "metadata": {},
   "outputs": [],
   "source": [
    "spot = 100\n",
    "strike = 95\n",
    "rate = .08\n",
    "vol = .3\n",
    "div = .08\n",
    "expiry = 1\n",
    "num = 3"
   ]
  },
  {
   "cell_type": "markdown",
   "metadata": {},
   "source": [
    "##### Calculate the prices of the American and European puts and calls."
   ]
  },
  {
   "cell_type": "code",
   "execution_count": 7,
   "metadata": {},
   "outputs": [
    {
     "name": "stdout",
     "output_type": "stream",
     "text": [
      "13.941479371881083 9.325897639947899\n",
      "14.183022701537359 9.504606550920677\n",
      "Now with 200 periods\n",
      "13.19862539381895 8.58304366188576\n",
      "13.502471888067916 8.735786652694042\n"
     ]
    }
   ],
   "source": [
    "euro_call = euro(spot,strike,expiry,rate,div,vol,num,option='call')\n",
    "euro_put = euro(spot,strike,expiry,rate,div,vol,num,option='put')\n",
    "\n",
    "amer_call = amer(spot,strike,expiry,rate,div,vol,num,option='call')\n",
    "amer_put = amer(spot,strike,expiry,rate,div,vol,num,option='put')\n",
    "\n",
    "print(euro_call, euro_put)\n",
    "print(amer_call, amer_put)\n",
    "\n",
    "num = 200\n",
    "print('Now with 200 periods')\n",
    "\n",
    "euro_call = euro(spot,strike,expiry,rate,div,vol,num,option='call')\n",
    "euro_put = euro(spot,strike,expiry,rate,div,vol,num,option='put')\n",
    "\n",
    "amer_call = amer(spot,strike,expiry,rate,div,vol,num,option='call')\n",
    "amer_put = amer(spot,strike,expiry,rate,div,vol,num,option='put')\n",
    "\n",
    "print(euro_call, euro_put)\n",
    "print(amer_call, amer_put)"
   ]
  },
  {
   "cell_type": "markdown",
   "metadata": {},
   "source": [
    "##### Which options are early-exercised? Explain your answer."
   ]
  },
  {
   "cell_type": "markdown",
   "metadata": {},
   "source": [
    "Both options are exercised. The dividends act to offset the growth that the stock usually would experience with the rest of the market, allowing for more chances for the stock to fall in price."
   ]
  }
 ],
 "metadata": {
  "kernelspec": {
   "display_name": "Python 3",
   "language": "python",
   "name": "python3"
  },
  "language_info": {
   "codemirror_mode": {
    "name": "ipython",
    "version": 3
   },
   "file_extension": ".py",
   "mimetype": "text/x-python",
   "name": "python",
   "nbconvert_exporter": "python",
   "pygments_lexer": "ipython3",
   "version": "3.7.7"
  }
 },
 "nbformat": 4,
 "nbformat_minor": 4
}
