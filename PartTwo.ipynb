{
 "cells": [
  {
   "cell_type": "markdown",
   "metadata": {},
   "source": [
    "## Part II: The American Binomial Option Pricing Model\n",
    "\n",
    "### Problem 1\n",
    "\n",
    "Using the functions `european_binomial_call` and `european_binomial_put` as starting points, implement the functions `american_binomial_call` and `american_binomial_put`. These functions should solve the optimal stopping problem implicit in the American option pricing problem. Write your solutions in the `options.py` module. This step is to be completed before you import the module for the problems below.\n",
    "\n",
    "### Problem 2\n",
    "Set-up: Let $S_0 = \\$100$, $K = \\$95$, $r = 8\\%$ (continuously compounded), $\\sigma = 30\\%$, $\\delta = 0$, $T = 1$ year,\n",
    "and $n = 3$."
   ]
  },
  {
   "cell_type": "code",
   "execution_count": 1,
   "metadata": {},
   "outputs": [],
   "source": [
    "import options as opt\n",
    "spot = 100\n",
    "strike = 95\n",
    "rate = .08\n",
    "vol = .3\n",
    "div = 0.\n",
    "expiry = 1\n",
    "num = 3"
   ]
  },
  {
   "cell_type": "markdown",
   "metadata": {},
   "source": [
    "##### (a) Verify that the binomial option price for an American call option is \\$18.283. Verify that there is never early exercise; hence a European call would have the same price. Compare your Python solution to a hand-written solution."
   ]
  },
  {
   "cell_type": "code",
   "execution_count": 3,
   "metadata": {},
   "outputs": [
    {
     "name": "stdout",
     "output_type": "stream",
     "text": [
      "European call: $18.28\n",
      "American call: $18.28\n",
      "These are identical to our handwritten calculations, $18.28 and $18.28.\n",
      "(See Final hand written solutions.xlsx)\n"
     ]
    }
   ],
   "source": [
    "euro = opt.european_binomial_pricer\n",
    "amer = opt.american_binomial_pricer\n",
    "\n",
    "euro_call = euro(spot,strike,expiry,rate,div,vol,num,option='call')\n",
    "amer_call = amer(spot,strike,expiry,rate,div,vol,num,option='call')\n",
    "\n",
    "print(f'European call: ${euro_call:.02f}')\n",
    "print(f'American call: ${amer_call:.02f}')\n",
    "print(f'These are identical to our handwritten calculations, $18.28 and $18.28.')\n",
    "print('(See Final hand written solutions.xlsx)')"
   ]
  },
  {
   "cell_type": "markdown",
   "metadata": {},
   "source": [
    "##### (b) Show that the binomial option price for a European put option is $5.979. Verify that put-call parity is satisfied."
   ]
  },
  {
   "cell_type": "code",
   "execution_count": 8,
   "metadata": {},
   "outputs": [
    {
     "name": "stdout",
     "output_type": "stream",
     "text": [
      "European put: $5.98\n",
      "Put-call parity: $12.30\n",
      "Difference between call and put: $12.30\n",
      "This clearly shows that our model satisfies put-call parity.\n"
     ]
    }
   ],
   "source": [
    "euro_put = euro(spot,strike,expiry,rate,div,vol,num,option='put')\n",
    "print(f'European put: ${euro_put:.02f}')\n",
    "print(f'Put-call parity: ${opt.parity(spot,strike,expiry,rate):.02f}')\n",
    "print(f'Difference between call and put: ${euro_call - euro_put:.02f}')\n",
    "print('This clearly shows that our model satisfies put-call parity.')"
   ]
  },
  {
   "cell_type": "markdown",
   "metadata": {},
   "source": [
    "##### (c) Verify that the price of an American put is \\$6.678."
   ]
  },
  {
   "cell_type": "code",
   "execution_count": 10,
   "metadata": {},
   "outputs": [
    {
     "name": "stdout",
     "output_type": "stream",
     "text": [
      "American put: $6.68\n"
     ]
    }
   ],
   "source": [
    "# This was the price of the option in part (b)\n",
    "amer_put = amer(spot,strike,expiry,rate,div,vol,num,option='put')\n",
    "print(f'American put: ${amer_put:.02f}')"
   ]
  },
  {
   "cell_type": "markdown",
   "metadata": {},
   "source": [
    "##### (d) Repeat each of the above for $n = 200$. How can you be sure there is never early exercise of the American call from part (a)? DO NOT attempt to solve this part by hand!"
   ]
  },
  {
   "cell_type": "code",
   "execution_count": 18,
   "metadata": {},
   "outputs": [
    {
     "name": "stdout",
     "output_type": "stream",
     "text": [
      "\t Call\tPut\n",
      "European $18.38\t$6.08\n",
      "American $18.38\t$6.68\n",
      "The European and American calls are the same.\n",
      "We can be sure that the call option is never exercised early because the European and American calls have exactly the same price.\n"
     ]
    }
   ],
   "source": [
    "num = 200\n",
    "\n",
    "euro_call = euro(spot,strike,expiry,rate,div,vol,num,option='call')\n",
    "euro_put = euro(spot,strike,expiry,rate,div,vol,num,option='put')\n",
    "\n",
    "amer_call = amer(spot,strike,expiry,rate,div,vol,num,option='call')\n",
    "amer_put = amer(spot,strike,expiry,rate,div,vol,num,option='put')\n",
    "\n",
    "print('\\t Call\\tPut')\n",
    "print(f'European ${euro_call:.02f}\\t${euro_put:.02f}')\n",
    "print(f'American ${amer_call:.02f}\\t${amer_put:.02f}')\n",
    "print(f'The European and American calls {\"are\" if euro_call == amer_call else \"are not\"} the same.')\n",
    "print(\"We can be sure that the call option is never exercised early because the European and American calls have exactly the same price.\")"
   ]
  },
  {
   "cell_type": "markdown",
   "metadata": {},
   "source": [
    "### Problem 3\n",
    "\n",
    "##### Repeat the previous problem assuming that the stock pays a continuous dividend of 8\\% per year (continuously compounded)."
   ]
  },
  {
   "cell_type": "code",
   "execution_count": 27,
   "metadata": {},
   "outputs": [],
   "source": [
    "spot = 100\n",
    "strike = 95\n",
    "rate = .08\n",
    "vol = .3\n",
    "div = .08\n",
    "expiry = 1"
   ]
  },
  {
   "cell_type": "markdown",
   "metadata": {},
   "source": [
    "##### Calculate the prices of the American and European puts and calls."
   ]
  },
  {
   "cell_type": "code",
   "execution_count": 28,
   "metadata": {},
   "outputs": [
    {
     "name": "stdout",
     "output_type": "stream",
     "text": [
      "\t Call\tPut\n",
      "European $13.94\t$9.33\n",
      "American $14.18\t$9.50\n",
      "\n",
      "Now with 200 periods\n",
      "\n",
      "\t Call\tPut\n",
      "European $13.20\t$8.58\n",
      "American $13.50\t$8.74\n"
     ]
    }
   ],
   "source": [
    "num = 3\n",
    "euro_call = euro(spot,strike,expiry,rate,div,vol,num,option='call')\n",
    "euro_put = euro(spot,strike,expiry,rate,div,vol,num,option='put')\n",
    "\n",
    "amer_call = amer(spot,strike,expiry,rate,div,vol,num,option='call')\n",
    "amer_put = amer(spot,strike,expiry,rate,div,vol,num,option='put')\n",
    "\n",
    "print('\\t Call\\tPut')\n",
    "print(f'European ${euro_call:.02f}\\t${euro_put:.02f}')\n",
    "print(f'American ${amer_call:.02f}\\t${amer_put:.02f}')\n",
    "\n",
    "num = 200\n",
    "print('\\nNow with 200 periods\\n')\n",
    "\n",
    "euro_call = euro(spot,strike,expiry,rate,div,vol,num,option='call')\n",
    "euro_put = euro(spot,strike,expiry,rate,div,vol,num,option='put')\n",
    "\n",
    "amer_call = amer(spot,strike,expiry,rate,div,vol,num,option='call')\n",
    "amer_put = amer(spot,strike,expiry,rate,div,vol,num,option='put')\n",
    "\n",
    "print('\\t Call\\tPut')\n",
    "print(f'European ${euro_call:.02f}\\t${euro_put:.02f}')\n",
    "print(f'American ${amer_call:.02f}\\t${amer_put:.02f}')"
   ]
  },
  {
   "cell_type": "markdown",
   "metadata": {},
   "source": [
    "##### Which options are early-exercised? Explain your answer."
   ]
  },
  {
   "cell_type": "markdown",
   "metadata": {},
   "source": [
    "Both options are exercised early. The dividends act to offset the growth that the stock usually would experience with the rest of the market, allowing for more chances for the stock to fall in price. Because the stock can reasonably be assumed to fall in price, the call option may be more valuable when exercise early."
   ]
  },
  {
   "cell_type": "code",
   "execution_count": null,
   "metadata": {},
   "outputs": [],
   "source": []
  }
 ],
 "metadata": {
  "kernelspec": {
   "display_name": "Python 3",
   "language": "python",
   "name": "python3"
  },
  "language_info": {
   "codemirror_mode": {
    "name": "ipython",
    "version": 3
   },
   "file_extension": ".py",
   "mimetype": "text/x-python",
   "name": "python",
   "nbconvert_exporter": "python",
   "pygments_lexer": "ipython3",
   "version": "3.8.3"
  }
 },
 "nbformat": 4,
 "nbformat_minor": 4
}
