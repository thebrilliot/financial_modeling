{
 "cells": [
  {
   "cell_type": "markdown",
   "metadata": {},
   "source": [
    "## Part II: The American Binomial Option Pricing Model"
   ]
  },
  {
   "cell_type": "markdown",
   "metadata": {},
   "source": [
    "# Problem 1"
   ]
  },
  {
   "cell_type": "markdown",
   "metadata": {},
   "source": [
    "Using the functions european_binomial_call and european_binomial_put as starting points, implement the functions american_binomial_call and american_binomial_put. These functions should\n",
    "solve the optimal stopping problem implicit in the American option pricing problem. Write your\n",
    "solutions in the options.py module. This step is to be completed before you import the module for\n",
    "the problems below.\n"
   ]
  },
  {
   "cell_type": "code",
   "execution_count": null,
   "metadata": {},
   "outputs": [],
   "source": []
  },
  {
   "cell_type": "markdown",
   "metadata": {},
   "source": [
    "# Problem 2"
   ]
  },
  {
   "cell_type": "markdown",
   "metadata": {},
   "source": [
    "Set-up: Let S0 = $100, K = $95, r = 8% (continuously compounded), σ = 30%, δ = 0, T = 1 year,\n",
    "and n = 3.\n"
   ]
  },
  {
   "cell_type": "markdown",
   "metadata": {},
   "source": [
    "• (a) Verify that the binomial option price for an American call option is $18.283. Verify that there is\n",
    "never early exercise; hence a European call would have the same price. Compare your Python solution\n",
    "to a hand-written solution."
   ]
  },
  {
   "cell_type": "code",
   "execution_count": null,
   "metadata": {},
   "outputs": [],
   "source": []
  },
  {
   "cell_type": "markdown",
   "metadata": {},
   "source": [
    "• (b) Show that the binomial option price for a European put option is $5.979. Verify that put-call parity\n",
    "is satisfied."
   ]
  },
  {
   "cell_type": "markdown",
   "metadata": {},
   "source": []
  },
  {
   "cell_type": "markdown",
   "metadata": {},
   "source": [
    "(c) Verify that the price of an American put is $6.678"
   ]
  },
  {
   "cell_type": "code",
   "execution_count": null,
   "metadata": {},
   "outputs": [],
   "source": []
  },
  {
   "cell_type": "markdown",
   "metadata": {},
   "source": [
    "(d) Repeat each of the above for n = 200. How can you be sure there is never early exercise of the\n",
    "American call from part (a)? DO NOT attempt to solve this part by hand!"
   ]
  },
  {
   "cell_type": "code",
   "execution_count": null,
   "metadata": {},
   "outputs": [],
   "source": []
  },
  {
   "cell_type": "markdown",
   "metadata": {},
   "source": [
    "# Problem 3"
   ]
  },
  {
   "cell_type": "markdown",
   "metadata": {},
   "source": [
    "Repeat the previous problem assuming that the stock pays a continuous dividend of 8% per year\n",
    "(continuously compounded).\n",
    "• Calculate the prices of the American and European puts and calls.\n",
    "• Which options are early-exercised? Explain your answer."
   ]
  },
  {
   "cell_type": "code",
   "execution_count": null,
   "metadata": {},
   "outputs": [],
   "source": []
  }
 ],
 "metadata": {
  "kernelspec": {
   "display_name": "Python 3",
   "language": "python",
   "name": "python3"
  },
  "language_info": {
   "codemirror_mode": {
    "name": "ipython",
    "version": 3
   },
   "file_extension": ".py",
   "mimetype": "text/x-python",
   "name": "python",
   "nbconvert_exporter": "python",
   "pygments_lexer": "ipython3",
   "version": "3.8.3"
  }
 },
 "nbformat": 4,
 "nbformat_minor": 4
}
