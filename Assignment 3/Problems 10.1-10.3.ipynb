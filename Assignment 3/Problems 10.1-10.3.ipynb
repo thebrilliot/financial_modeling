{
 "cells": [
  {
   "cell_type": "markdown",
   "metadata": {},
   "source": [
    "# Option Pricing\n",
    "## European Pricing\n",
    "$$\\begin{align}\n",
    "    u = e^{(r-\\delta)h+\\sigma\\sqrt{h}} \\\\\n",
    "    d = e^{(r-\\delta)h-\\sigma\\sqrt{h}}\n",
    "\\end{align}$$\n",
    "$$\\begin{align}\n",
    "    &\\text{Call}            &        \\text{Put} \\\\\n",
    "    C_u &= \\max(0,uS_0-K)    &    C_u &amp;= \\max(0,K-uS_0) \\\\\n",
    "    C_d &= \\max(0,dS_0-K)    &    C_d &amp;= \\max(0,K-dS_0) \\\\\n",
    "\\end{align}$$\n",
    "$$\\begin{align}\n",
    "    \\Delta = \\frac{C_u-C_d}{S_0(u-d)} \\\\\n",
    "    B = e^{-rh}\\cdot \\left(\\frac{uC_d-dC_u}{u-d}\\right) \\\\\n",
    "    C_0 = \\Delta S + B\n",
    "\\end{align}$$\n",
    "Givens\n",
    "Strike Price, Stock Price, $\\sigma=$volatility, $\\delta=$dividends $r=$risk-free rate, $h=$length of period, Number of periods in the binomial tree"
   ]
  },
  {
   "cell_type": "code",
   "execution_count": 2,
   "metadata": {},
   "outputs": [],
   "source": [
    "import numpy as np\n",
    "\n",
    "def call_payoff(spot,strike):\n",
    "    return max(0,spot-strike)\n",
    "\n",
    "def put_payoff(spot,strike):\n",
    "    return max(0,strike-spot)\n",
    "\n",
    "def get_delta(spot, c_u, c_d, u, d):\n",
    "    return (c_u-c_d)/(spot*(u-d))\n",
    "    \n",
    "def get_b(spot, c_u, c_d, u, d, r, h):\n",
    "    return np.exp(-r*h)*(u*c_d-d*c_u)/(u-d)\n",
    "\n",
    "def get_premium(spot,delta,b):\n",
    "    return delta*spot+b"
   ]
  },
  {
   "cell_type": "markdown",
   "metadata": {},
   "source": [
    "## Problem 10.1\n",
    "Let S = \\\\$100, K = \\\\$105, r = 8%, T = 0.5, and δ = 0 (i.e. no dividends). Let u = 1.3 and d = 0.8, and n = 1.\n",
    "\n",
    "• a. What are the premium, ∆, and B for a European call?\n",
    "\n",
    "• b. What are the premium, ∆, and B for a European put?"
   ]
  },
  {
   "cell_type": "code",
   "execution_count": 3,
   "metadata": {},
   "outputs": [
    {
     "name": "stdout",
     "output_type": "stream",
     "text": [
      "Problem 10.1\n",
      "a. The call premium is $11.568422433907074, the delta is 0.5, and the B is -38.431577566092926.\n",
      "b. The put premium is $12.451313544901005, the delta is -0.5, and the B is 62.451313544901005.\n"
     ]
    }
   ],
   "source": [
    "# Problem 10.1\n",
    "strike = 105\n",
    "spot = 100\n",
    "rate = .08\n",
    "div = 0\n",
    "nper = 1\n",
    "time = .5\n",
    "u = 1.3\n",
    "d = .8\n",
    "\n",
    "call_high = call_payoff(spot*u,strike)\n",
    "call_low = call_payoff(spot*d,strike)\n",
    "call_delta = get_delta(spot, call_high, call_low, u, d)\n",
    "call_b = get_b(spot, call_high, call_low, u, d, rate, time)\n",
    "call_premium = call_delta * spot + call_b\n",
    "\n",
    "put_high = put_payoff(spot*u,strike)\n",
    "put_low = put_payoff(spot*d,strike)\n",
    "put_delta = get_delta(spot, put_high, put_low, u, d)\n",
    "put_b = get_b(spot, put_high, put_low, u, d, rate, time)\n",
    "put_premium = put_delta * spot + put_b\n",
    "\n",
    "print(\"Problem 10.1\")\n",
    "print(f\"a. The call premium is ${call_premium}, the delta is {call_delta}, and the B is {call_b}.\")\n",
    "print(f\"b. The put premium is ${put_premium}, the delta is {put_delta}, and the B is {put_b}.\")"
   ]
  },
  {
   "cell_type": "markdown",
   "metadata": {},
   "source": [
    "## Problem 10.2\n",
    "Let S = \\\\$100, K = \\\\$95, r = 8%, T = 0.5, and δ = 0 (i.e. no dividends). Let u = 1.3, d = 0.8, and n = 1.\n",
    "\n",
    "• a. Verify that the price of a European call is \\\\$16.196.\n",
    "\n",
    "• b. Suppose you observe a call price of \\\\$17.00 What is the arbitrage?\n",
    "\n",
    "• c. Suppose you observe a call price of \\\\$15.50. What is the arbitrage?"
   ]
  },
  {
   "cell_type": "code",
   "execution_count": 9,
   "metadata": {},
   "outputs": [
    {
     "name": "stdout",
     "output_type": "stream",
     "text": [
      "Problem 10.2\n",
      "b. The call arbitrage for section b is $0.80\n",
      "c. the call arbitrage for section c is $0.70.\n"
     ]
    }
   ],
   "source": [
    "##Problem 10.2##\n",
    "\n",
    "strike = 95\n",
    "spot = 100\n",
    "rate = .08\n",
    "div = 0\n",
    "nper = 1\n",
    "time = .5\n",
    "u = 1.3\n",
    "d = .8\n",
    "\n",
    "european_call = 16.196\n",
    "call_17 = 17.00\n",
    "call_15 = 15.50\n",
    "\n",
    "call_high = call_payoff(spot*u,strike)\n",
    "call_low = call_payoff(spot*d,strike)\n",
    "call_delta = get_delta(spot, call_high, call_low, u, d)\n",
    "call_b = get_b(spot, call_high, call_low, u, d, rate, time)\n",
    "call_premium = get_premium(call_delta,spot,call_b)\n",
    "arbitrage_b = abs(call_17 - call_premium)\n",
    "arbitrage_c = abs(call_15 - call_premium)\n",
    "\n",
    "print(\"Problem 10.2\")\n",
    "print(f\"b. The call arbitrage for section b is ${arbitrage_b:.02f}\")\n",
    "print(f\"c. the call arbitrage for section c is ${arbitrage_c:.02f}.\")"
   ]
  },
  {
   "cell_type": "markdown",
   "metadata": {},
   "source": [
    "## Problem 10.3\n",
    "\n",
    "Let S = \\\\$100, K = \\\\$95, r = 8%, T = 0.5, and δ = 0 (i.e. no dividends). Let u = 1.3, d = 0.8, and n = 1.\n",
    "\n",
    "• a. Verify that the price of a European put is \\\\$7.471.\n",
    "\n",
    "• b. Suppose you observe a put price of \\\\$8.00 What is the arbitrage?\n",
    "\n",
    "• c. Suppose you observe a put price of \\\\$6.00 What is the aribtrage?"
   ]
  },
  {
   "cell_type": "code",
   "execution_count": 8,
   "metadata": {},
   "outputs": [
    {
     "name": "stdout",
     "output_type": "stream",
     "text": [
      "Problem 10.3\n",
      "b. The put arbitrage for section b is $16.20, c.the put arbitrage for section c is $10.20.\n"
     ]
    }
   ],
   "source": [
    "##Problem 10.3##\n",
    "\n",
    "european_put = 7.471\n",
    "put_b = 8\n",
    "put_c = 6\n",
    "\n",
    "put_high = put_payoff(spot*u,strike)\n",
    "put_low = put_payoff(spot*d,strike)\n",
    "put_delta = get_delta(spot, put_high, put_low, u, d)\n",
    "put_b = get_b(spot, put_high, call_low, u, d, rate, time)\n",
    "put_premium = put_delta * spot + put_b\n",
    "arbitrage_b = abs(put_b - call_premium)\n",
    "arbitrage_c = abs(put_c - call_premium)\n",
    "\n",
    "print(\"Problem 10.3\")\n",
    "print(f\"b. The put arbitrage for section b is ${arbitrage_b:.02f}, c.the put arbitrage for section c is ${arbitrage_c:.02f}.\")"
   ]
  },
  {
   "cell_type": "code",
   "execution_count": null,
   "metadata": {},
   "outputs": [],
   "source": []
  }
 ],
 "metadata": {
  "kernelspec": {
   "display_name": "Python 3",
   "language": "python",
   "name": "python3"
  },
  "language_info": {
   "codemirror_mode": {
    "name": "ipython",
    "version": 3
   },
   "file_extension": ".py",
   "mimetype": "text/x-python",
   "name": "python",
   "nbconvert_exporter": "python",
   "pygments_lexer": "ipython3",
   "version": "3.7.7"
  }
 },
 "nbformat": 4,
 "nbformat_minor": 4
}
