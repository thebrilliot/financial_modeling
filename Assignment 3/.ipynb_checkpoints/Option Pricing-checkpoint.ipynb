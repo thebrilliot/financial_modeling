{
 "cells": [
  {
   "cell_type": "markdown",
   "metadata": {},
   "source": [
    "# Option Pricing\n",
    "## European Pricing"
   ]
  },
  {
   "cell_type": "markdown",
   "metadata": {},
   "source": [
    "\\begin{align}\n",
    "    u = e^{(r-\\delta)h+\\sigma\\sqrt{h}} \\\\\n",
    "    d = e^{(r-\\delta)h-\\sigma\\sqrt{h}}\n",
    "\\end{align}"
   ]
  },
  {
   "cell_type": "markdown",
   "metadata": {},
   "source": [
    "\\begin{align}\n",
    "    &\\text{Call}            &        \\text{Put} \\\\\n",
    "    C_u &= \\max(0,uS_0-K)    &    C_u &= \\max(0,K-uS_0) \\\\\n",
    "    C_d &= \\max(0,dS_0-K)    &    C_d &= \\max(0,K-dS_0) \\\\\n",
    "\\end{align}"
   ]
  },
  {
   "cell_type": "markdown",
   "metadata": {},
   "source": [
    "\\begin{align}\n",
    "    \\Delta = \\frac{C_u-C_d}{S_0(u-d)} \\\\\n",
    "    B = e^{-rh}\\cdot \\left(\\frac{uC_d-dC_u}{u-d}\\right) \\\\\n",
    "    C_0 = \\Delta S + B\n",
    "\\end{align}"
   ]
  },
  {
   "cell_type": "markdown",
   "metadata": {},
   "source": [
    "### Givens\n",
    "Strike Price, Stock Price, $\\sigma=$volatility, $\\delta=$dividends $r=$risk-free rate, $h=$length of period, Number of periods in the binomial tree"
   ]
  },
  {
   "cell_type": "code",
   "execution_count": 11,
   "metadata": {},
   "outputs": [
    {
     "name": "stdout",
     "output_type": "stream",
     "text": [
      "The call premium is $11.568422433907074, the delta is 0.5, and the B is -38.431577566092926.\n",
      "The put premium is $12.451313544901005, the delta is -0.5, and the B is 62.451313544901005.\n"
     ]
    }
   ],
   "source": [
    "import numpy as np\n",
    "\n",
    "def call_payoff(spot,strike):\n",
    "    return max(0,spot-strike)\n",
    "\n",
    "def put_payoff(spot,strike):\n",
    "    return max(0,strike-spot)\n",
    "\n",
    "def get_delta(spot, c_u, c_d, u, d):\n",
    "    return (c_u-c_d)/(spot*(u-d))\n",
    "    \n",
    "def get_b(spot, c_u, c_d, u, d, r, h):\n",
    "    return np.exp(-r*h)*(u*c_d-d*c_u)/(u-d)\n",
    "    \n",
    "\n",
    "strike = 105\n",
    "spot = 100\n",
    "r = .08\n",
    "div = 0\n",
    "nper = 1\n",
    "time = .5\n",
    "u = 1.3\n",
    "d = .8\n",
    "\n",
    "call_high = call_payoff(spot*u,strike)\n",
    "call_low = call_payoff(spot*d,strike)\n",
    "call_delta = get_delta(spot, call_high, call_low, u, d)\n",
    "call_b = get_b(spot, call_high, call_low, u, d, r, time)\n",
    "call_premium = call_delta * spot + call_b\n",
    "\n",
    "put_high = put_payoff(spot*u,strike)\n",
    "put_low = put_payoff(spot*d,strike)\n",
    "put_delta = get_delta(spot, put_high, put_low, u, d)\n",
    "put_b = get_b(spot, put_high, put_low, u, d, r, time)\n",
    "put_premium = put_delta * spot + put_b\n",
    "\n",
    "print(f\"The call premium is ${call_premium}, the delta is {call_delta}, and the B is {call_b}.\")\n",
    "print(f\"The put premium is ${put_premium}, the delta is {put_delta}, and the B is {put_b}.\")"
   ]
  },
  {
   "cell_type": "code",
   "execution_count": null,
   "metadata": {},
   "outputs": [],
   "source": []
  }
 ],
 "metadata": {
  "kernelspec": {
   "display_name": "Python 3",
   "language": "python",
   "name": "python3"
  },
  "language_info": {
   "codemirror_mode": {
    "name": "ipython",
    "version": 3
   },
   "file_extension": ".py",
   "mimetype": "text/x-python",
   "name": "python",
   "nbconvert_exporter": "python",
   "pygments_lexer": "ipython3",
   "version": "3.7.7"
  }
 },
 "nbformat": 4,
 "nbformat_minor": 4
}
