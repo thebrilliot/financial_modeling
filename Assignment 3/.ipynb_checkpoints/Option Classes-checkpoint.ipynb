{
 "cells": [
  {
   "cell_type": "markdown",
   "metadata": {},
   "source": [
    "# Option Classes"
   ]
  },
  {
   "cell_type": "code",
   "execution_count": 3,
   "metadata": {},
   "outputs": [],
   "source": [
    "import numpy as np\n",
    "\n",
    "class Asset:\n",
    "    \n",
    "    def __init__(self, price, rate, div, vol):\n",
    "        self.price = price\n",
    "        self.rate = rate\n",
    "        self.div = div\n",
    "        self.vol = vol\n",
    "        \n",
    "class Option:\n",
    "                    # ua = Underlying Asset\n",
    "    def __init__(self, ua, strike, expiry):\n",
    "        self.ua = ua\n",
    "        self.strike = strike\n",
    "        self.expiry = expiry\n",
    "        \n",
    "        # u = C_u / S_0; d = C_d / S_0\n",
    "        self.u = self.construct_u()/self.ua.price\n",
    "        self.d = self.construct_d()/self.ua.price\n",
    "        \n",
    "        # Delta = e^(-delta*h)*(C_u-C_d)/(S_0(u-d))\n",
    "        self.delta = np.exp(-self.ua.div*self.expiry)*(self.payoff(self.construct_u())-self.payoff(self.construct_d()))/(self.ua.price*(self.u-self.d))\n",
    "        \n",
    "        # B = e^(-r*h)*(u*C_d-d*C_u)/(u-d)\n",
    "        self.b = np.exp(-self.ua.rate*self.expiry)*(self.u*self.payoff(self.construct_d())-self.d*self.payoff(self.construct_u()))/(self.u-self.d)\n",
    "        # Premium/price = \\Delta * spot + B\n",
    "        self.price = self.delta*self.ua.price+self.b\n",
    "\n",
    "    def forward(self):\n",
    "        return self.ua.price*np.exp((self.ua.rate-self.ua.div)*self.expiry)\n",
    "    \n",
    "    def construct_u(self):\n",
    "        return self.forward()*np.exp(self.ua.vol*np.sqrt(self.expiry))\n",
    "\n",
    "    def construct_d(self):\n",
    "        return self.forward()*np.exp(-self.ua.vol*np.sqrt(self.expiry))\n",
    "\n",
    "class Call(Option):\n",
    "    \n",
    "    def __init__(self, ua, strike, expiry):\n",
    "        super().__init__(ua, strike, expiry)\n",
    "        \n",
    "    def payoff(self,spot):\n",
    "        return max(0,spot-self.strike)\n",
    "        \n",
    "class Put(Option):\n",
    "    \n",
    "    def __init__(self, ua, strike, expiry):\n",
    "        super().__init__(ua, strike, expiry)\n",
    "        \n",
    "    def payoff(self,spot):\n",
    "        return max(0,self.strike-spot)"
   ]
  },
  {
   "cell_type": "code",
   "execution_count": 4,
   "metadata": {},
   "outputs": [],
   "source": [
    "stock_a = Asset(9,.01,0,1)\n",
    "cl = Call(stock_a, 10, 1)\n",
    "pt = Put(stock_a, 10, 1)"
   ]
  },
  {
   "cell_type": "code",
   "execution_count": 5,
   "metadata": {},
   "outputs": [
    {
     "name": "stdout",
     "output_type": "stream",
     "text": [
      "0\n",
      "1\n"
     ]
    }
   ],
   "source": [
    "print(cl.payoff(9))\n",
    "print(pt.payoff(9))"
   ]
  },
  {
   "cell_type": "code",
   "execution_count": 6,
   "metadata": {},
   "outputs": [
    {
     "name": "stdout",
     "output_type": "stream",
     "text": [
      "3.916873112513758 4.817371450005439\n"
     ]
    }
   ],
   "source": [
    "print(cl.price,pt.price)"
   ]
  },
  {
   "cell_type": "code",
   "execution_count": null,
   "metadata": {},
   "outputs": [],
   "source": []
  }
 ],
 "metadata": {
  "kernelspec": {
   "display_name": "Python 3",
   "language": "python",
   "name": "python3"
  },
  "language_info": {
   "codemirror_mode": {
    "name": "ipython",
    "version": 3
   },
   "file_extension": ".py",
   "mimetype": "text/x-python",
   "name": "python",
   "nbconvert_exporter": "python",
   "pygments_lexer": "ipython3",
   "version": "3.7.7"
  }
 },
 "nbformat": 4,
 "nbformat_minor": 4
}
