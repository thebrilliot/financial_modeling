{
 "cells": [
  {
   "cell_type": "markdown",
   "metadata": {},
   "source": [
    "# Assignment 2 Addendum"
   ]
  },
  {
   "cell_type": "code",
   "execution_count": 2,
   "metadata": {},
   "outputs": [],
   "source": [
    "import numpy as np\n",
    "\n",
    "class Bond:\n",
    "    \n",
    "    def __init__(self, maturity: int, rate: float, coupon: float, face: float = 1000., frequency: int = 2):\n",
    "        self.maturity = maturity\n",
    "        self.coupon = coupon\n",
    "        self.rate = rate\n",
    "        self.face = face\n",
    "        self.frequency = frequency\n",
    "        \n",
    "        self.cash_flows = self.create_flows(maturity, coupon, face, frequency)\n",
    "        self.pv = self.present_value(rate,self.cash_flows)\n",
    "        \n",
    "    @classmethod\n",
    "    def no_pv(cls, maturity: int, rate: float, coupon: float, face: float = 1000., frequency: int = 2):\n",
    "        return cls(maturity, rate, coupon, face, frequency)\n",
    "    \n",
    "    @classmethod\n",
    "    def no_ytm(cls, maturity: int, pv: float, coupon: float, face: float = 1000., frequency: int = 2):\n",
    "        \n",
    "        cls.frequency = frequency\n",
    "        rate = cls.ytm(cls,pv,cls.create_flows(cls, maturity, coupon, face, frequency))\n",
    "        \n",
    "        return cls(maturity, rate, coupon, face, frequency)\n",
    "    \n",
    "    @classmethod\n",
    "    def no_coupon(cls, maturity: int, pv: float, rate: float, face: float = 1000., frequency: int = 2):\n",
    "        \n",
    "        cls.frequency = frequency\n",
    "        coupon = cls.coupon_rate(cls,maturity,pv,rate,face,frequency)\n",
    "        \n",
    "        return cls(maturity, rate, coupon, face, frequency)\n",
    "    \n",
    "    @classmethod\n",
    "    def no_face(cls, maturity: int, pv: float, rate: float, coupon: float, frequency: int = 2):\n",
    "    \n",
    "        cls.frequency = frequency\n",
    "        face = cls.face_value(cls,maturity,pv,rate,coupon,frequency)\n",
    "        \n",
    "        return cls(maturity, rate, coupon, face, frequency)\n",
    "    \n",
    "    def __str__(self):\n",
    "        return f'a $%.02f, %.02f percent coupon bond with %d years to maturity' % (self.pv,self.coupon*100,self.maturity)\n",
    "\n",
    "    def create_flows(self, maturity: int, coupon: float, face: float, frequency: int) -> np.ndarray:\n",
    "        pmt = coupon * face / frequency\n",
    "        bond = np.full(maturity*frequency,pmt)\n",
    "        bond[-1] += face\n",
    "        return bond\n",
    "            \n",
    "    def present_value(self, rate: float, cash_flows: np.ndarray) -> float:\n",
    "        pv = 0\n",
    "        for count, flow in enumerate(cash_flows):\n",
    "            pv += flow/((1+rate/self.frequency)**(count+1))\n",
    "        return pv\n",
    "    \n",
    "    def ytm(self, pv: float, cash_flows: np.ndarray, lower: float = 0., upper: float = 1.) -> float:\n",
    "\n",
    "        while(True): \n",
    "            guess = (lower + upper)/2\n",
    "            #      Guessed price      -       Real price\n",
    "            diff = self.present_value(self, guess, cash_flows) - pv\n",
    "            if (abs(diff) < 0.00001):\n",
    "                return guess\n",
    "            else:\n",
    "                if (diff > 0): # The guessed price is too high, so our guess is too low\n",
    "                    lower = guess # Since our guess is too low, we raise the lower limit of our search\n",
    "                else:\n",
    "                    upper = guess\n",
    "        \n",
    "    def coupon_rate(self, maturity: int, pv: float, rate: float, face: float, frequency: int):\n",
    "        \n",
    "        factors = np.ones(maturity*frequency)\n",
    "        coupon = (pv - face/(1+rate/frequency)**(maturity*frequency))\n",
    "        coupon /= self.present_value(self,rate,factors)\n",
    "        coupon /= face\n",
    "        coupon *= frequency\n",
    "        \n",
    "        return coupon\n",
    "    \n",
    "    def face_value(self, maturity: int, pv: float, rate: float, coupon: float, frequency: int):\n",
    "        \n",
    "        coupons = self.create_flows(self,maturity,coupon,1,frequency)\n",
    "        face = pv / self.present_value(self,rate,coupons)\n",
    "        \n",
    "        return face"
   ]
  },
  {
   "cell_type": "markdown",
   "metadata": {},
   "source": [
    "## Problem 1"
   ]
  },
  {
   "cell_type": "markdown",
   "metadata": {},
   "source": [
    "What is the price of a 10-year, zero-coupon bond paying \\$1, 000 at maturity\n",
    "if the YTM is:"
   ]
  },
  {
   "cell_type": "markdown",
   "metadata": {},
   "source": [
    "a. 5 percent ?\n",
    "b. 10 percent ?\n",
    "c. 15 percent ?"
   ]
  },
  {
   "cell_type": "code",
   "execution_count": 7,
   "metadata": {},
   "outputs": [
    {
     "name": "stdout",
     "output_type": "stream",
     "text": [
      "a. The bond price is $613.91\n",
      "b. The bond price is $385.54\n",
      "c. The bond price is $247.18\n"
     ]
    }
   ],
   "source": [
    "li = ['a','b','c']\n",
    "rates = [.05,.1,.15]\n",
    "lists = [li,rates]; tuples = zip(*lists)\n",
    "for letter, rate in tuples:\n",
    "    print(f'{letter}. The bond price is ${Bond(10,rate,0.,frequency=1).pv:.02f}')"
   ]
  },
  {
   "cell_type": "markdown",
   "metadata": {},
   "source": [
    "## Problem 2"
   ]
  },
  {
   "cell_type": "markdown",
   "metadata": {},
   "source": [
    "Calculate the price of 25-year, 7 percent coupon bond with a \\$1,000 par value that makes semiannual payments with a YTM of:"
   ]
  },
  {
   "cell_type": "markdown",
   "metadata": {},
   "source": [
    "a. 7 percent\n",
    "b. 9 percent\n",
    "c. 5 percent"
   ]
  },
  {
   "cell_type": "code",
   "execution_count": 9,
   "metadata": {},
   "outputs": [
    {
     "name": "stdout",
     "output_type": "stream",
     "text": [
      "a. The bond price is $1000.00\n",
      "b. The bond price is $802.38\n",
      "c. The bond price is $1283.62\n"
     ]
    }
   ],
   "source": [
    "li = ['a','b','c']; rates = [.07,.09,.05]\n",
    "lists = [li,rates]; tuples = zip(*lists)\n",
    "for letter, rate in tuples:\n",
    "    print(f'{letter}. The bond price is ${Bond(25,rate,.07).pv:.02f}')"
   ]
  },
  {
   "cell_type": "markdown",
   "metadata": {},
   "source": [
    "## Problem 3\n",
    "Watters Umbrella Corp. issued 12-year bonds 2 years ago at a coupon rate\n",
    "of 7.8 percent. The bonds make semiannual payments. If these bonds\n",
    "currently sell for 105 percent of par value, what is the YTM?"
   ]
  },
  {
   "cell_type": "code",
   "execution_count": 10,
   "metadata": {},
   "outputs": [
    {
     "name": "stdout",
     "output_type": "stream",
     "text": [
      "The YTM of the bond is 7.09%.\n"
     ]
    }
   ],
   "source": [
    "print(f'The YTM of the bond is {Bond.no_ytm(10,1.05*1000,.078).rate*100:.02f}%.')"
   ]
  },
  {
   "cell_type": "markdown",
   "metadata": {},
   "source": [
    "## Problem 4\n",
    "Hacker Software has 7.4 percent coupon bonds on the market with 9 years\n",
    "to maturity. The bonds make semiannual payments and currently sell for\n",
    "96 percent of par. What is the YTM?"
   ]
  },
  {
   "cell_type": "code",
   "execution_count": 11,
   "metadata": {},
   "outputs": [
    {
     "name": "stdout",
     "output_type": "stream",
     "text": [
      "The YTM of the bond is 8.03%.\n"
     ]
    }
   ],
   "source": [
    "print(f'The YTM of the bond is {Bond.no_ytm(9,.96*1000,.074).rate*100:.02f}%.')"
   ]
  },
  {
   "cell_type": "markdown",
   "metadata": {},
   "source": [
    "## Problem 5\n",
    "Pembroke Co. wants to issue new 20-year bonds for some much needed\n",
    "expansion projects. The company currently has 10 percent coupon bonds\n",
    "on the market that sell for $1, 063, make semiannual payments, and mature\n",
    "in 20 year. What coupon rate should the company set on its new bonds if\n",
    "it wants them to sell at par?"
   ]
  },
  {
   "cell_type": "markdown",
   "metadata": {},
   "source": [
    "Answer: To sell at par, the coupon rate needs to be equal to the YTM and we can assume that Pembroke Co. wants the cost of debt of the new bonds to match the cost of the old bonds."
   ]
  },
  {
   "cell_type": "code",
   "execution_count": 16,
   "metadata": {},
   "outputs": [
    {
     "name": "stdout",
     "output_type": "stream",
     "text": [
      "0.0930052399635315\n",
      "0.09300523996353148\n"
     ]
    }
   ],
   "source": [
    "old_bond = Bond.no_ytm(20,1063,.1)\n",
    "new_bond = Bond.no_coupon(20,1000,old_bond.rate)\n",
    "print(old_bond.rate)\n",
    "print(new_bond.coupon)"
   ]
  },
  {
   "cell_type": "markdown",
   "metadata": {},
   "source": [
    "## Additional Present Value Problems\n",
    "Jimbo has \\\\$2,780 to invest. He wants to invest the most he can into a combination of two bonds. The two bonds have an identical YTM of 4.3% and a face value of \\\\$1,000 and both pay semiannual coupons. The first bond has a coupon rate of 4.7 percent and 10 years to maturity and the second has a coupon rate of 3.5 percent and 12 years to maturity. What is the best combination of the two bonds and what is the maximum amount Jimbo can invest into them?"
   ]
  },
  {
   "cell_type": "code",
   "execution_count": 17,
   "metadata": {},
   "outputs": [
    {
     "name": "stdout",
     "output_type": "stream",
     "text": [
      "[0, 3] 2776.8427826744596\n"
     ]
    }
   ],
   "source": [
    "import math\n",
    "bond1 = Bond(10,.043,.047)\n",
    "bond2 = Bond(12,.043,.035)\n",
    "best = [0,0]\n",
    "big = 0\n",
    "for i in range(math.ceil(2780 / bond1.pv)+1):\n",
    "    for j in range(math.ceil(2780 / bond2.pv)+1):\n",
    "        value = bond1.pv * i + bond2.pv * j\n",
    "        if ((value > big) & (value <= 2780)):\n",
    "            big = value\n",
    "            best[0] = i\n",
    "            best[1] = j\n",
    "print(best,big)"
   ]
  },
  {
   "cell_type": "markdown",
   "metadata": {},
   "source": [
    "## Additional YTM Problems\n",
    "Geoffrey wants to invest in bonds with a YTM of around 6%. Should he choose AlphaBravo, Inc.'s (\\\\$1,000 par, 10-year, 5 percent coupon rate with annual payments, and current price of \\\\$980.80) or CharlieDelta, LLC's (\\\\$1,000 par, 8-year, 5 percent coupon rate with semiannual payments, and current price of \\\\$917.92)?"
   ]
  },
  {
   "cell_type": "code",
   "execution_count": 21,
   "metadata": {},
   "outputs": [
    {
     "name": "stdout",
     "output_type": "stream",
     "text": [
      "Geoffrey should choose CharlieDelta because its YTM of 6.32% is closer to 6% than AlphaBeta's YTM of 5.25%.\n"
     ]
    }
   ],
   "source": [
    "bond_ab = Bond.no_ytm(10,980.80,.05,frequency=1)\n",
    "bond_ab.name = 'AlphaBeta'\n",
    "\n",
    "bond_cd = Bond.no_ytm(8,917.92,.05)\n",
    "bond_cd.name = 'CharlieDelta'\n",
    "\n",
    "if (abs(bond_ab.rate - .06) < abs(bond_cd.rate - .06)):\n",
    "    closer = bond_ab\n",
    "    farther = bond_cd\n",
    "else:\n",
    "    closer = bond_cd\n",
    "    farther = bond_ab\n",
    "    \n",
    "print(f'Geoffrey should choose {closer.name} because its YTM of {closer.rate*100:.02f}% is closer to 6% than {farther.name}\\'s YTM of {farther.rate*100:.02f}%.')"
   ]
  },
  {
   "cell_type": "code",
   "execution_count": null,
   "metadata": {},
   "outputs": [],
   "source": []
  }
 ],
 "metadata": {
  "kernelspec": {
   "display_name": "Python 3",
   "language": "python",
   "name": "python3"
  },
  "language_info": {
   "codemirror_mode": {
    "name": "ipython",
    "version": 3
   },
   "file_extension": ".py",
   "mimetype": "text/x-python",
   "name": "python",
   "nbconvert_exporter": "python",
   "pygments_lexer": "ipython3",
   "version": "3.7.7"
  }
 },
 "nbformat": 4,
 "nbformat_minor": 4
}
