{
 "cells": [
  {
   "cell_type": "markdown",
   "metadata": {},
   "source": [
    "# Assignment 2 Addendum"
   ]
  },
  {
   "cell_type": "markdown",
   "metadata": {},
   "source": [
    "## Problem 1"
   ]
  },
  {
   "cell_type": "markdown",
   "metadata": {},
   "source": [
    "What is the price of a 10-year, zero-coupon bond paying \\$1, 000 at maturity\n",
    "if the YTM is:"
   ]
  },
  {
   "cell_type": "markdown",
   "metadata": {},
   "source": [
    "a. 5 percent ?\n",
    "b. 10 percent ?\n",
    "c. 15 percent ?"
   ]
  },
  {
   "cell_type": "code",
   "execution_count": 1,
   "metadata": {},
   "outputs": [],
   "source": [
    "import numpy as np"
   ]
  },
  {
   "cell_type": "code",
   "execution_count": 2,
   "metadata": {},
   "outputs": [],
   "source": [
    "def present_value(r: float, cash_flows: np.ndarray) -> float:\n",
    "    \n",
    "    pv = 0\n",
    "    \n",
    "    for count, flow in enumerate(cash_flows):\n",
    "        pv += flow/((1+r)**(count+1))\n",
    "        \n",
    "    return pv "
   ]
  },
  {
   "cell_type": "code",
   "execution_count": 3,
   "metadata": {},
   "outputs": [],
   "source": [
    "def bond_factory(coupon: float, maturity: int, frequency: int = 2, face: float = 1000.) -> np.ndarray:\n",
    "    pmt = coupon * face / frequency\n",
    "    bond = np.full(maturity*frequency,pmt)\n",
    "    bond[-1] += face\n",
    "    return bond"
   ]
  },
  {
   "cell_type": "code",
   "execution_count": 6,
   "metadata": {},
   "outputs": [
    {
     "name": "stdout",
     "output_type": "stream",
     "text": [
      "The price of the bond is $610.27.\n",
      "The price of the bond is $376.89.\n",
      "The price of the bond is $235.41.\n"
     ]
    }
   ],
   "source": [
    "l = [.05,.10,.15]\n",
    "bond = bond_factory(0.,10,frequency=2)\n",
    "for rate in l:\n",
    "    print(f'The price of the bond is ${present_value(rate/2,bond):.02f}.')"
   ]
  },
  {
   "cell_type": "markdown",
   "metadata": {},
   "source": [
    "## Problem 2"
   ]
  },
  {
   "cell_type": "markdown",
   "metadata": {},
   "source": [
    "Calculate the price of 25-year, 7 percent coupon bond with a \\$1,000 par value that makes semiannual payments with a YTM of:"
   ]
  },
  {
   "cell_type": "markdown",
   "metadata": {},
   "source": [
    "a. 7 percent\n",
    "b. 9 percent\n",
    "c. 5 percent"
   ]
  },
  {
   "cell_type": "code",
   "execution_count": 7,
   "metadata": {},
   "outputs": [
    {
     "name": "stdout",
     "output_type": "stream",
     "text": [
      "a. With a YTM of 7 percent, the price is $1000.00.\n",
      "b. With a YTM of 9 percent, the price is $802.38.\n",
      "c. With a YTM of 5 percent, the price is $1283.62.\n"
     ]
    }
   ],
   "source": [
    "letters = ['a','b','c']; rates = [.07,.09,.05]\n",
    "lists = [letters,rates]; tuples = zip(*lists)\n",
    "bond = bond_factory(0.07,25)\n",
    "for letter, rate in tuples:\n",
    "    print(f'{letter}. With a YTM of {rate*100:.00f} percent, the price is ${present_value(rate/2,bond):.02f}.')"
   ]
  },
  {
   "cell_type": "markdown",
   "metadata": {},
   "source": [
    "## Problem 3\n",
    "Watters Umbrella Corp. issued 12-year bonds 2 years ago at a coupon rate\n",
    "of 7.8 percent. The bonds make semiannual payments. If these bonds\n",
    "currently sell for 105 percent of par value, what is the YTM?"
   ]
  },
  {
   "cell_type": "code",
   "execution_count": 8,
   "metadata": {},
   "outputs": [],
   "source": [
    "def ytm(pv: float, cash_flows: np.ndarray, lower: float = 0., upper: float = 1.) -> float:\n",
    "    \n",
    "    while(True): \n",
    "        guess = (lower + upper)/2\n",
    "        #      Guessed price      -       Real price\n",
    "        diff = present_value(guess, cash_flows) - pv\n",
    "        if (abs(diff) < 0.00001):\n",
    "            return guess\n",
    "        else:\n",
    "            if (diff > 0): # The guessed price is too high, so our guess is too low\n",
    "                lower = guess # Since our guess is too low, we raise the lower limit of our search\n",
    "            else:\n",
    "                upper = guess"
   ]
  },
  {
   "cell_type": "code",
   "execution_count": 9,
   "metadata": {},
   "outputs": [
    {
     "name": "stdout",
     "output_type": "stream",
     "text": [
      "The YTM is 7.09%\n"
     ]
    }
   ],
   "source": [
    "bond = bond_factory(.078,10,frequency=2)\n",
    "pv = 1.05*1000\n",
    "print(f'The YTM is {ytm(pv, bond)*200:.02f}%')"
   ]
  },
  {
   "cell_type": "markdown",
   "metadata": {},
   "source": [
    "## Problem 4\n",
    "Hacker Software has 7.4 percent coupon bonds on the market with 9 years\n",
    "to maturity. The bonds make semiannual payments and currently sell for\n",
    "96 percent of par. What is the YTM?"
   ]
  },
  {
   "cell_type": "code",
   "execution_count": 10,
   "metadata": {},
   "outputs": [
    {
     "name": "stdout",
     "output_type": "stream",
     "text": [
      "The YTM is 8.03%\n"
     ]
    }
   ],
   "source": [
    "bond = bond_factory(.074,9)\n",
    "pv = .96*1000\n",
    "print(f'The YTM is {ytm(pv,bond)*200:.02f}%')"
   ]
  },
  {
   "cell_type": "markdown",
   "metadata": {},
   "source": [
    "## Problem 5\n",
    "Pembroke Co. wants to issue new 20-year bonds for some much needed\n",
    "expansion projects. The company currently has 10 percent coupon bonds\n",
    "on the market that sell for $1, 063, make semiannual payments, and mature\n",
    "in 20 year. What coupon rate should the company set on its new bonds if\n",
    "it wants them to sell at par?"
   ]
  },
  {
   "cell_type": "markdown",
   "metadata": {},
   "source": [
    "Answer: To sell at par, the coupon rate needs to be equal to the YTM and we can assume that Pembroke Co. wants the cost of debt of the new bonds to match the cost of the old bonds."
   ]
  },
  {
   "cell_type": "code",
   "execution_count": 11,
   "metadata": {},
   "outputs": [
    {
     "name": "stdout",
     "output_type": "stream",
     "text": [
      "Pembroke Co. should set the new coupon rate to 9.30 percent of par\n"
     ]
    }
   ],
   "source": [
    "bond = bond_factory(.10,20)\n",
    "pv = 1063.\n",
    "print(f'Pembroke Co. should set the new coupon rate to {ytm(pv,bond)*200:.02f} percent of par')"
   ]
  },
  {
   "cell_type": "markdown",
   "metadata": {},
   "source": [
    "## Additional Homemade Problems\n",
    "Jimbo has \\\\$2,780 to invest. He wants to invest the most he can into a combination of two bonds. The two bonds have an identical YTM of 4.3% and a face value of \\\\$1,000 and both pay semiannual coupons. The first bond has a coupon rate of 4.7 percent and 10 years to maturity and the second has a coupon rate of 3.5 percent and 12 years to maturity. What is the best combination of the two bonds and what is the maximum amount Jimbo can invest into them?"
   ]
  },
  {
   "cell_type": "code",
   "execution_count": 12,
   "metadata": {},
   "outputs": [
    {
     "name": "stdout",
     "output_type": "stream",
     "text": [
      "The best combination of bonds is [0, 3] and Jimbo will be able to invest $2776.8427826744596.\n"
     ]
    }
   ],
   "source": [
    "import math\n",
    "bond1 = bond_factory(.047,10)\n",
    "bond2 = bond_factory(.035,12)\n",
    "rate = .043\n",
    "pv1 = present_value(rate/2,bond1)\n",
    "pv2 = present_value(rate/2,bond2)\n",
    "#print(pv1,pv2)\n",
    "best = [0,0]\n",
    "big = 0\n",
    "for i in range(math.ceil(2780 / pv1)+1):\n",
    "    for j in range(math.ceil(2780 / pv2)+1):\n",
    "        value = pv1 * i + pv2 * j\n",
    "        if ((value > big) & (value < 2780)):\n",
    "            big = value\n",
    "            best[0] = i\n",
    "            best[1] = j\n",
    "print(f'The best combination of bonds is {best} and Jimbo will be able to invest ${big}.'\n",
    "     )"
   ]
  },
  {
   "cell_type": "markdown",
   "metadata": {},
   "source": [
    "Billy Bob is looking for a bond with a YTM of around 8%. He can chooses AlphaBravo's (ten-year, 5% coupons with annual payments for \\\\$980.80) or CharlieDelta's (8-year, 5% coupons with semiannual payments for \\\\$917.92). Which one should he choose?"
   ]
  },
  {
   "cell_type": "code",
   "execution_count": 14,
   "metadata": {},
   "outputs": [],
   "source": [
    "## AlphaBravo = ab, CharlieDelta = cd\n",
    "bond_ab = bond_factory(.05,10,frequency=1)\n",
    "bond_cd = bond_factory(.05,8,frequency=2)"
   ]
  },
  {
   "cell_type": "code",
   "execution_count": 15,
   "metadata": {},
   "outputs": [],
   "source": [
    "pv_ab = 980.80\n",
    "pv_cd = 917.92\n",
    "ab = ytm(pv_ab,bond_ab)\n",
    "cd = ytm(pv_cd,bond_cd)*2\n",
    "#print(ab, cd)"
   ]
  },
  {
   "cell_type": "code",
   "execution_count": 16,
   "metadata": {},
   "outputs": [
    {
     "name": "stdout",
     "output_type": "stream",
     "text": [
      "CharlieDelta has a YTM of 6.32% which is closer than AlphaBravo's YTM of 5.25%.\n"
     ]
    }
   ],
   "source": [
    "diff_ab = abs(.06-ab)\n",
    "diff_cd = abs(.06-cd)\n",
    "#print(diff_ab > diff_cd) # Is AB farther from 6% than CD?\n",
    "print(f'CharlieDelta has a YTM of {cd*100:.02f}% which is closer than AlphaBravo\\'s YTM of {ab*100:.02f}%.')"
   ]
  },
  {
   "cell_type": "markdown",
   "metadata": {},
   "source": [
    "Franklin industries issued 5-year bonds 2 years ago at a coupon rate of 12.0% percent. The bonds make annual payments. If these bonds currently sell under par value by 4%, what is the YTM?"
   ]
  },
  {
   "cell_type": "code",
   "execution_count": 17,
   "metadata": {},
   "outputs": [
    {
     "name": "stdout",
     "output_type": "stream",
     "text": [
      "The YTM is 13.71%\n"
     ]
    }
   ],
   "source": [
    "bond = bond_factory(.12,(5-2),frequency=1)\n",
    "pv = .96*1000\n",
    "print(f'The YTM is {ytm(pv, bond)*100:.02f}%')"
   ]
  },
  {
   "cell_type": "markdown",
   "metadata": {},
   "source": [
    "Bubba gump shrimp wants to buy a 10000 bond from a competitor who held the bond for 3 years. This was a semiannual bond with 3.0% coupon rate, and a the length of the bond is 20 years with a YTM of 2.0%. How much should he pay for this bond right now?"
   ]
  },
  {
   "cell_type": "code",
   "execution_count": 19,
   "metadata": {},
   "outputs": [
    {
     "name": "stdout",
     "output_type": "stream",
     "text": [
      "The price Bubba gump shrimp should pay is $ 11435.13\n"
     ]
    }
   ],
   "source": [
    "bond = bond_factory(0.03,17,frequency=2,face=10000)\n",
    "print (f'The price Bubba gump shrimp should pay is ${present_value (.02/2, bond): .02f}')"
   ]
  },
  {
   "cell_type": "markdown",
   "metadata": {},
   "source": [
    "Walter Mitty's inc. issued 10-year bonds 3 years ago at a coupon rate of 6.2 percent. The bonds makes annual payments. If these bonds currently sell for 95 percent of par value, what is the YTM?"
   ]
  },
  {
   "cell_type": "code",
   "execution_count": 20,
   "metadata": {},
   "outputs": [
    {
     "name": "stdout",
     "output_type": "stream",
     "text": [
      "The YTM is 7.13%\n"
     ]
    }
   ],
   "source": [
    "bond = bond_factory(.062,7,frequency=1)\n",
    "pv = .95*1000\n",
    "print(f'The YTM is {ytm(pv, bond)*100:.02f}%')"
   ]
  }
 ],
 "metadata": {
  "kernelspec": {
   "display_name": "Python 3",
   "language": "python",
   "name": "python3"
  },
  "language_info": {
   "codemirror_mode": {
    "name": "ipython",
    "version": 3
   },
   "file_extension": ".py",
   "mimetype": "text/x-python",
   "name": "python",
   "nbconvert_exporter": "python",
   "pygments_lexer": "ipython3",
   "version": "3.7.7"
  }
 },
 "nbformat": 4,
 "nbformat_minor": 4
}
