{
 "cells": [
  {
   "cell_type": "markdown",
   "metadata": {},
   "source": [
    "# Writing an object class called 'Bond'\n",
    "## Main Idea\n",
    "I want to create a class object so that I can give a few values to define a bond and instantly obtain the one missing value. This means I different constructor methods. Stack Overflow says that I cannot use several __init__ methods with different signatures/lists of arguments in Python, so instead I write classmethods with different names that specify the way the Bond is being defined."
   ]
  },
  {
   "cell_type": "code",
   "execution_count": 35,
   "metadata": {},
   "outputs": [],
   "source": [
    "import numpy as np\n",
    "\n",
    "class Bond:\n",
    "    \n",
    "    def __init__(self, maturity: int, rate: float, coupon: float, face: float = 1000., frequency: int = 2):\n",
    "        self.maturity = maturity\n",
    "        self.coupon = coupon\n",
    "        self.rate = rate\n",
    "        self.face = face\n",
    "        self.frequency = frequency\n",
    "        \n",
    "        self.cash_flows = self.create_flows(maturity, coupon, face, frequency)\n",
    "        self.pv = self.present_value(rate,self.cash_flows)\n",
    "        \n",
    "    @classmethod\n",
    "    def no_pv(cls, maturity: int, rate: float, coupon: float, face: float = 1000., frequency: int = 2):\n",
    "        return cls(maturity, rate, coupon, face, frequency)\n",
    "    \n",
    "    @classmethod\n",
    "    def no_ytm(cls, maturity: int, pv: float, coupon: float, face: float = 1000., frequency: int = 2):\n",
    "        \n",
    "        cls.frequency = frequency\n",
    "        rate = cls.ytm(cls,pv,cls.create_flows(cls, maturity, coupon, face, frequency))\n",
    "        \n",
    "        return cls(maturity, rate, coupon, face, frequency)\n",
    "    \n",
    "    @classmethod\n",
    "    def no_coupon(cls, maturity: int, pv: float, rate: float, face: float = 1000., frequency: int = 2):\n",
    "        \n",
    "        cls.frequency = frequency\n",
    "        coupon = cls.coupon_rate(cls,maturity,pv,rate,face,frequency)\n",
    "        \n",
    "        return cls(maturity, rate, coupon, face, frequency)\n",
    "    \n",
    "    @classmethod\n",
    "    def no_face(cls, maturity: int, pv: float, rate: float, coupon: float, frequency: int = 2):\n",
    "    \n",
    "        cls.frequency = frequency\n",
    "        face = cls.face_value(cls,maturity,pv,rate,coupon,frequency)\n",
    "        \n",
    "        return cls(maturity, rate, coupon, face, frequency)\n",
    "    \n",
    "    def __str__(self):\n",
    "        return f'a $%.02f, %.02f percent coupon bond with %d years to maturity' % (self.pv,self.coupon*100,self.maturity)\n",
    "\n",
    "    def create_flows(self, maturity: int, coupon: float, face: float, frequency: int) -> np.ndarray:\n",
    "        pmt = coupon * face / frequency\n",
    "        bond = np.full(maturity*frequency,pmt)\n",
    "        bond[-1] += face\n",
    "        return bond\n",
    "            \n",
    "    def present_value(self, rate: float, cash_flows: np.ndarray) -> float:\n",
    "        pv = 0\n",
    "        for count, flow in enumerate(cash_flows):\n",
    "            pv += flow/((1+rate/self.frequency)**(count+1))\n",
    "        return pv\n",
    "    \n",
    "    def ytm(self, pv: float, cash_flows: np.ndarray, lower: float = 0., upper: float = 1.) -> float:\n",
    "\n",
    "        while(True): \n",
    "            guess = (lower + upper)/2\n",
    "            #      Guessed price      -       Real price\n",
    "            diff = self.present_value(self, guess, cash_flows) - pv\n",
    "            if (abs(diff) < 0.00001):\n",
    "                return guess\n",
    "            else:\n",
    "                if (diff > 0): # The guessed price is too high, so our guess is too low\n",
    "                    lower = guess # Since our guess is too low, we raise the lower limit of our search\n",
    "                else:\n",
    "                    upper = guess\n",
    "        \n",
    "    def coupon_rate(self, maturity: int, pv: float, rate: float, face: float, frequency: int):\n",
    "        \n",
    "        factors = np.ones(maturity*frequency)\n",
    "        coupon = (pv - face/(1+rate/frequency)**(maturity*frequency))\n",
    "        coupon /= self.present_value(self,rate,factors)\n",
    "        coupon /= face\n",
    "        coupon *= frequency\n",
    "        \n",
    "        return coupon\n",
    "    \n",
    "    def face_value(self, maturity: int, pv: float, rate: float, coupon: float, frequency: int):\n",
    "        \n",
    "        coupons = self.create_flows(self,maturity,coupon,1,frequency)\n",
    "        face = pv / self.present_value(self,rate,coupons)\n",
    "        \n",
    "        return face"
   ]
  },
  {
   "cell_type": "code",
   "execution_count": 36,
   "metadata": {},
   "outputs": [],
   "source": [
    "b = Bond.no_face(maturity = 10, pv = 1000., rate = .05, coupon = .06)"
   ]
  },
  {
   "cell_type": "code",
   "execution_count": 37,
   "metadata": {},
   "outputs": [
    {
     "name": "stdout",
     "output_type": "stream",
     "text": [
      "A $1000.00, 6.00 percent coupon bond with 10 years to maturity\n"
     ]
    }
   ],
   "source": [
    "print(str(b).capitalize())"
   ]
  },
  {
   "cell_type": "code",
   "execution_count": 38,
   "metadata": {},
   "outputs": [
    {
     "name": "stdout",
     "output_type": "stream",
     "text": [
      "10 1000.0 0.05 0.06 927.6904176426453 2 [ 27.83071253  27.83071253  27.83071253  27.83071253  27.83071253\n",
      "  27.83071253  27.83071253  27.83071253  27.83071253  27.83071253\n",
      "  27.83071253  27.83071253  27.83071253  27.83071253  27.83071253\n",
      "  27.83071253  27.83071253  27.83071253  27.83071253 955.52113017]\n"
     ]
    }
   ],
   "source": [
    "print(b.maturity,b.pv,b.rate,b.coupon,b.face,b.frequency,b.cash_flows)"
   ]
  },
  {
   "cell_type": "code",
   "execution_count": null,
   "metadata": {},
   "outputs": [],
   "source": []
  }
 ],
 "metadata": {
  "kernelspec": {
   "display_name": "Python 3",
   "language": "python",
   "name": "python3"
  },
  "language_info": {
   "codemirror_mode": {
    "name": "ipython",
    "version": 3
   },
   "file_extension": ".py",
   "mimetype": "text/x-python",
   "name": "python",
   "nbconvert_exporter": "python",
   "pygments_lexer": "ipython3",
   "version": "3.7.7"
  }
 },
 "nbformat": 4,
 "nbformat_minor": 4
}
