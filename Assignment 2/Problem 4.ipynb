{
 "cells": [
  {
   "cell_type": "code",
   "execution_count": 1,
   "metadata": {},
   "outputs": [],
   "source": [
    "import numpy as np"
   ]
  },
  {
   "cell_type": "markdown",
   "metadata": {},
   "source": [
    "## Assignment 02 - Problem 4"
   ]
  },
  {
   "cell_type": "markdown",
   "metadata": {},
   "source": [
    "\"Your assignment in this problem is to write a function that uses binary search like in the number guessing game together with your `present_value` function from the previous problem to solve for the bond's annual yield to maturity.\"\n",
    "\n",
    "There is no way to calculate the YTM by hand, so instead we are going to guess and check."
   ]
  },
  {
   "cell_type": "markdown",
   "metadata": {},
   "source": [
    "Prof. Brough already gives us some code."
   ]
  },
  {
   "cell_type": "code",
   "execution_count": null,
   "metadata": {},
   "outputs": [],
   "source": [
    "# Here we are defining a function ytm() that takes arguments pv, lower, upper, and cash_flows,\n",
    "# and returns a float value. So we put in three float values and an ndarray and it spits out a float.\n",
    "# This isn't the main() function. It is a function that will execute the same no matter what numbers\n",
    "# we give it.\n",
    "def ytm(pv: float, lower: float, upper: float, cash_flows: np.ndarray) -> float:\n",
    "    ytm = 0.10 ## replace this with the calculation\n",
    "    return ytm"
   ]
  },
  {
   "cell_type": "code",
   "execution_count": null,
   "metadata": {},
   "outputs": [],
   "source": [
    "## This is how Tyler wants us to set up the cash flows\n",
    "# We're creating a one-dimensional array with a length of 12 and calling it cash_flows2\n",
    "cash_flows2 = np.empty(12)\n",
    "# Filling it with coupons payments of $40 each\n",
    "cash_flows2.fill(40.0)\n",
    "# And adding the face value to the last cash flow\n",
    "cash_flows2[-1] += 1000.0\n",
    "# This just sets up everything to test out the function ytm() which we haven't written yet"
   ]
  },
  {
   "cell_type": "code",
   "execution_count": null,
   "metadata": {},
   "outputs": [],
   "source": [
    "# This is the line of code we should be able to run and come out with a good approximation of\n",
    "# the discount rate\n",
    "ytm(911.37, 0.01, .2, cash_flows2)\n",
    "# We'll put this inside main() to show that it works"
   ]
  },
  {
   "cell_type": "markdown",
   "metadata": {},
   "source": [
    "So let's try this...\n",
    "\n",
    "1. First, we need to make a guess at the discount rate, somewhere in between the upper and lower limits\n",
    "2. Then we need to check the price of the bond using the function in Problem 3\n",
    "3. If that price matches the price we were given, then we did it!\n",
    "4. If not, does our guess give us a price that is too high or too low?\n",
    "5. Finally, we adjust the limits we are searching between and go back to 1"
   ]
  },
  {
   "cell_type": "code",
   "execution_count": null,
   "metadata": {},
   "outputs": [],
   "source": []
  }
 ],
 "metadata": {
  "kernelspec": {
   "display_name": "Python 3",
   "language": "python",
   "name": "python3"
  },
  "language_info": {
   "codemirror_mode": {
    "name": "ipython",
    "version": 3
   },
   "file_extension": ".py",
   "mimetype": "text/x-python",
   "name": "python",
   "nbconvert_exporter": "python",
   "pygments_lexer": "ipython3",
   "version": "3.7.7"
  }
 },
 "nbformat": 4,
 "nbformat_minor": 4
}
