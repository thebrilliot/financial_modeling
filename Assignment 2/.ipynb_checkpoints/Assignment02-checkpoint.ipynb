{
 "cells": [
  {
   "cell_type": "markdown",
   "metadata": {},
   "source": [
    "## Finance 5350: Computational Financial Modeling\n",
    "### Homework 2: Binary Search & Bond Yields\n",
    "\n",
    "<br>\n",
    "\n",
    "**Due Date:** TBA\n",
    "\n",
    "<br>"
   ]
  },
  {
   "cell_type": "code",
   "execution_count": null,
   "metadata": {},
   "outputs": [],
   "source": [
    "import numpy as np"
   ]
  },
  {
   "cell_type": "markdown",
   "metadata": {},
   "source": [
    "#### __Problem 1 - The Nuggests Problem__"
   ]
  },
  {
   "cell_type": "markdown",
   "metadata": {},
   "source": [
    "This problem is known as the *chicken nuggets* problem. It goes like this: you walk into Chick Fil-A with an unlimited amount of money (and appetite!). You can purchase nuggets in containers of 6, 9, and 20.\n",
    "\n",
    "Write a program to tell you the ***highest*** number of nuggets that you ***cannot*** purchase! Re-read that just in case it slipped past you the first time. The highest number that you cannot get. For example, you ___can___ get 15 nuggets by purchasing a box of 6 and a box of 9 nuggets. You can get 18 by purchasing 2 boxes of 9 nuggets. But you cannot purchase 17 nuggets with any combination of 6, 9, and 20. ___What is the highest number that you cannot get?!___\n",
    "\n",
    "This simple game will give you experience assembling different bits of `Python` programming to find the solution. It will also employ a very simple numerical method called [__brute-force search__](https://en.wikipedia.org/wiki/Brute-force_search#:~:text=In%20computer%20science%2C%20brute%2Dforce,candidate%20satisfies%20the%20problem's%20statement.). \n",
    "\n",
    "Please write your solution in the code cell below:"
   ]
  },
  {
   "cell_type": "code",
   "execution_count": null,
   "metadata": {},
   "outputs": [],
   "source": [
    "def main():\n",
    "    # your code goes here!\n",
    "    print(\"Good luck!\") # remove this line of code for your final solution!\n",
    "    \n",
    "if __name__ == \"__main__\":\n",
    "    main()"
   ]
  },
  {
   "cell_type": "markdown",
   "metadata": {},
   "source": [
    "#### __Problem 2 - The Guess My Number Game (Binary Search)__"
   ]
  },
  {
   "cell_type": "markdown",
   "metadata": {},
   "source": [
    "In the book **[Python Programming for the Absolute Beginner, 3rd Edition](http://goo.gl/7PGr9r)** the author teaches `Python` through some simple game programming. One of the first games that he shows how to write is the so-called ***Guess My Number*** game, which is the children's game of guessing some one's secret number (a number between 1 and 100). \n",
    "\n",
    "An implementation of the game in `Python` might look something like this:"
   ]
  },
  {
   "cell_type": "code",
   "execution_count": null,
   "metadata": {},
   "outputs": [],
   "source": [
    "import numpy as np\n",
    "\n",
    "def print_header():\n",
    "    print(\"\\tWelcome to 'Guess My Number'!\")\n",
    "    print(\"\\tI'm thinking of a number between 1 and 100.\")\n",
    "    print(\"\\tTry to guess it in as few attempts as possible.\\n\")\n",
    "\n",
    "\n",
    "def print_footer(the_number, tries):\n",
    "    print(\"You guessed it! The number was\", the_number)\n",
    "    print(\"And it only took you\", tries, \"tries!\\n\")\n",
    "    print(\"\\n\\nPress the enter key to exit.\")    \n",
    "    \n",
    "def main():\n",
    "    # print the greeting banner\n",
    "    print_header()\n",
    "    \n",
    "    # set the initial values\n",
    "    the_number = np.random.randint(low=1, high=101, size=1)[0]\n",
    "    guess = int(input(\"Take a guess: \"))\n",
    "    tries = 1\n",
    "    \n",
    "    # the game loop\n",
    "    while guess != the_number:\n",
    "        if guess > the_number:\n",
    "            print(\"Lower ...\")\n",
    "        else:\n",
    "            print(\"Higher...\")\n",
    "            \n",
    "        guess = int(input(\"Take a guess: \"))\n",
    "        tries += 1\n",
    "        \n",
    "    print_footer(the_number, tries)\n",
    "    \n",
    "    \n",
    "if __name__ == \"__main__\":\n",
    "    main()"
   ]
  },
  {
   "cell_type": "markdown",
   "metadata": {},
   "source": [
    "Your task in this problem is to now write a version of the *Guess My Number* game where you and the computer switch roles! That is right: you think of a number and the computer must guess it in as few attempts as possible. You will need to encode your guessing logic to the program solution.\n",
    "\n",
    "This might seem like silly game play, but in order to solve the problem you must use an algorithm called [**binary search**](https://en.wikipedia.org/wiki/Binary_search_algorithm) or the **bisection method** to solve the problem correctly. This is our first attempt at programming a simple algorithm. We will see this algorithm later in the context of the ***Black-Scholes-Merton Option Pricing Model*** to calculate the implied volatility of the model. This is something that options traders do thousands and thousands of times a day!\n",
    "\n",
    "Please use the code cell below to write your solution:"
   ]
  },
  {
   "cell_type": "code",
   "execution_count": null,
   "metadata": {},
   "outputs": [],
   "source": [
    "def main():\n",
    "    # your code goes here!\n",
    "    print(\"Good luck!\") # delete this line of code\n",
    "    \n",
    "if __name__ == \"__main__\":\n",
    "    main()"
   ]
  },
  {
   "cell_type": "markdown",
   "metadata": {},
   "source": [
    "#### __Problem 3 - Bond Prices & Net Present Value__"
   ]
  },
  {
   "cell_type": "markdown",
   "metadata": {},
   "source": [
    "This problem comes from _Chapter 7: Interest Rates and Bond Valuation_ from the textbook _Fundamentals of Corporate Finance 12ed_ by Ross, Westerfield, and Jordan. \n",
    "\n",
    "<br>\n",
    "\n",
    "__The Problem Statement:__\n",
    "\n",
    "<br>\n",
    "\n",
    "A corporate coupon bond has a $10$ percent coupon rate and a $\\$1,000$ face value. Interest is paid semiannually, and the bond has $20$ years to maturity. If investors require a $12$ percent yield, what is the bond's value? What is the effective annual yield on the bond? \n",
    "\n",
    "<br>\n",
    "\n",
    "__The Problem Solution__\n",
    "\n",
    "<br>\n",
    "\n",
    "Because the bond has a $10$ percent coupon rate and investors require a $12$ precent yield, we know that the bond must sell at a discount. Notice that, because the bond pays interest seminannually, the coupons amount to $\\$100/2 = \\$50$ every six months. The required yield is $12\\% / 2 = 6\\%$ every six months. Finally, the bond matures in $20$ years, so there are a total of $40$ six-month periods. \n",
    "\n",
    "The bond's value is thus equal to the present value of $\\$50$ every six months for the next $40$ six-month periods plus the present value of the $\\$1,000$ face value amount: \n",
    "\n",
    "$$\n",
    "\\begin{aligned}\n",
    "\\mbox{Bond value} &= \\$50 \\times [(1 - 1/1.06^{40})/.06)] + 1,000/1.06^{40} \\\\\n",
    "                  &= \\$50 \\times 15.0463 + 1,000/10.2857 \\\\\n",
    "                  &= \\$849.54\n",
    "\\end{aligned}\n",
    "$$\n",
    "\n",
    "<br>\n",
    "\n",
    "Notice that we discounted the $\\$1,000$ back $40$ periods at $6$ percent per period, rather than $20$ years at $12$ percent. The reason is that the effective annual yield on the bond is $1.06^{2} - 1 = .1236$ or $12.36\\%$, not $12$ percent. We thus could have used $12.36$ percent per year for $20$ years when we calculated the present value of the $\\$1,000$ face value amount, and the answer would have been the same. \n",
    "\n",
    "<br>\n",
    "\n",
    "Your assignment for this problem is to write a function in `Python` that solves for the price of a bond. What you are solving for is really just a present value, so you can call it `present_value`. Test it by replicating in code the problem that is solved for you above. \n",
    "\n",
    "<br>"
   ]
  },
  {
   "cell_type": "code",
   "execution_count": null,
   "metadata": {},
   "outputs": [],
   "source": [
    "def present_value(rate: float, cash_flows: np.ndarray) -> float:\n",
    "    ## TODO: replace the hardcoded value with actual\n",
    "    ##       code to calculate the bond price\n",
    "    price = 849.54\n",
    "    return price"
   ]
  },
  {
   "cell_type": "code",
   "execution_count": null,
   "metadata": {},
   "outputs": [],
   "source": [
    "## Here is how to set up the bond's cash flows\n",
    "cash_flows = np.empty(40)\n",
    "cash_flows.fill(50.0)\n",
    "cash_flows[-1] += 1000.0"
   ]
  },
  {
   "cell_type": "code",
   "execution_count": null,
   "metadata": {},
   "outputs": [],
   "source": [
    "## Let's check it\n",
    "cash_flows"
   ]
  },
  {
   "cell_type": "code",
   "execution_count": null,
   "metadata": {},
   "outputs": [],
   "source": [
    "## Get the bond price and print it with proper formatting\n",
    "rate = 0.06\n",
    "price = present_value(rate, cash_flows)\n",
    "print(f\"The price of the bond is: ${price :,.2f}\")"
   ]
  },
  {
   "cell_type": "markdown",
   "metadata": {},
   "source": [
    "<br>\n",
    "\n",
    "__Note:__ just a brief note about the above formula for the bond price. It is using the present value of annuity formula to calculate the present value of the coupon payments. We could re-write the formula to be more generic as:\n",
    "\n",
    "$$\n",
    "\\begin{aligned}\n",
    "\\mbox{Bond price} &= \\left( \\sum_{t=1}^{M} \\frac{\\mbox{Coupon}_{t}}{(1 + r)^{t}} \\right) + \\frac{\\mbox{Face Value}}{(1 + r)^{M}} \\\\\n",
    "                  &= \\sum_{t=1}^{M} \\frac{CF_{t}}{(1 + r)^{t}}\n",
    "\\end{aligned}\n",
    "$$\n",
    "\n",
    "where $CF_{t}$ is the cash flow of the bond at time $t$. For every period up to the second to last one this is the coupon payment. The final cash flow would be the final coupon payment plus the face value amount of the bond. So for this particular bond above this amounts to the following:\n",
    "\n",
    "$$\n",
    "\\mbox{Bond price} = \\sum_{t=1}^{M} \\frac{CF_{t}}{(1 + r)^{t}} = \\frac{50.0}{(1.06)^{1}} + \\frac{50.0}{(1.06)^{2}} + \\cdots + \\frac{50.0}{(1.06)^{39}} + \\frac{1050.0}{(1.06)^{40}}\n",
    "$$\n",
    "\n",
    "<br>\n",
    "\n",
    "This should help you see why I set up the `cash_flows` ndarray as I did above. \n",
    "\n",
    "<br>"
   ]
  },
  {
   "cell_type": "markdown",
   "metadata": {},
   "source": [
    "#### __Problem 4 - Bond Yields & Binary Search__"
   ]
  },
  {
   "cell_type": "markdown",
   "metadata": {},
   "source": [
    "This another problem from _Chapter 7: Interest Rates and Bond Valuation_ from the textbook _Fundamentals of Corporate Finance 12ed_ by Ross, Westerfield, and Jordan. \n",
    "\n",
    "<br>\n",
    "\n",
    "__The Problem Statement:__\n",
    "\n",
    "<br>\n",
    "\n",
    "A corporate coupon bond carries an $8$ percent coupon, paid semiannually. The par value is $\\$1,000$, and the bond matures in six years. If the bond currently sells for $\\$911.37$, what is the yield to maturity? What is the effective annual yield? \n",
    "\n",
    "<br>\n",
    "\n",
    "__The Problem Solution__\n",
    "\n",
    "<br>\n",
    "\n",
    "The present value of the bond's cash flows is its current price, $\\$911.37$. The coupon is $\\$40$ every six months for $12$ periods. The face value is $\\$1,000$. So the bond's yield is the unknown discount rate in the following: \n",
    "\n",
    "$$\n",
    "\\$911.37 = \\$40 \\times \\frac{\\left[1 - \\frac{1}{(1 + r)^{12}}\\right]}{r} + \\frac{1,000}{(1 + r)^{12}}\n",
    "$$\n",
    "\n",
    "<br>\n",
    "\n",
    "The bond sells at a discount. Because the coupon rate is $8$ percent, the yield must be something in excess of that. \n",
    "\n",
    "If we were to solve this by trial and error, we might try $12$ percent (or $6$ percent per six months):\n",
    "\n",
    "$$\n",
    "\\begin{aligned}\n",
    "\\mbox{Bond value} &= \\$40 \\times \\frac{\\left[1 - \\frac{1}{1.06^{12}}\\right]}{.06} + \\frac{1,000}{1.06^{12}} \\\\\n",
    "                  &= \\$832.32\n",
    "\\end{aligned}\n",
    "$$\n",
    "\n",
    "<br>\n",
    "\n",
    "This is less than the actual value, so our discount rate is too high. We now know that the yield is somewhere between $8$ and $12$ percent. With further trial and error (or a little machine assistance), the yield works out to be $10$ percent, or $5$ percent every six months. \n",
    "\n",
    "By convention, the bond's yield to maturity would be quoted as $2 \\times 5\\% = 10\\%$. The effective annual yield is $1.05^{2} - 1 = .1025$ or $10.25\\%$.\n",
    "\n",
    "<br>\n",
    "\n",
    "Your assignment in this problem is to write a function that uses binary search like in the number guessing game together with your `present_value` function from the previous problem to solve for the bond's annual yield to maturity. \n",
    "\n",
    "<br>"
   ]
  },
  {
   "cell_type": "code",
   "execution_count": null,
   "metadata": {},
   "outputs": [],
   "source": [
    "def ytm(pv: float, lower: float, upper: float, cash_flows: np.ndarray) -> float:\n",
    "    ytm = 0.10 ## replace this with the calculation\n",
    "    return ytm"
   ]
  },
  {
   "cell_type": "code",
   "execution_count": null,
   "metadata": {},
   "outputs": [],
   "source": [
    "## Here is how to set up the bond's cash flows\n",
    "cash_flows2 = np.empty(12)\n",
    "cash_flows2.fill(40.0)\n",
    "cash_flows2[-1] += 1000.0"
   ]
  },
  {
   "cell_type": "code",
   "execution_count": null,
   "metadata": {},
   "outputs": [],
   "source": [
    "ytm(911.37, 0.01, .2, cash_flows2)"
   ]
  }
 ],
 "metadata": {
  "kernelspec": {
   "display_name": "Python 3",
   "language": "python",
   "name": "python3"
  },
  "language_info": {
   "codemirror_mode": {
    "name": "ipython",
    "version": 3
   },
   "file_extension": ".py",
   "mimetype": "text/x-python",
   "name": "python",
   "nbconvert_exporter": "python",
   "pygments_lexer": "ipython3",
   "version": "3.8.3"
  }
 },
 "nbformat": 4,
 "nbformat_minor": 4
}
