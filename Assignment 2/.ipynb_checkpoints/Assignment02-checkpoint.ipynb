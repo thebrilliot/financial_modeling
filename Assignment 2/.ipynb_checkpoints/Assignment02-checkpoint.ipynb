{
 "cells": [
  {
   "cell_type": "markdown",
   "metadata": {},
   "source": [
    "## Finance 5350: Computational Financial Modeling\n",
    "### Homework 2: Binary Search & Bond Yields\n",
    "\n",
    "<br>\n",
    "\n",
    "**Due Date:** TBA\n",
    "\n",
    "<br>"
   ]
  },
  {
   "cell_type": "code",
   "execution_count": 2,
   "metadata": {},
   "outputs": [],
   "source": [
    "import numpy as np"
   ]
  },
  {
   "cell_type": "markdown",
   "metadata": {},
   "source": [
    "#### __Problem 1 - The Nuggets Problem__"
   ]
  },
  {
   "cell_type": "markdown",
   "metadata": {},
   "source": [
    "This problem is known as the *chicken nuggets* problem. It goes like this: you walk into Chick Fil-A with an unlimited amount of money (and appetite!). You can purchase nuggets in containers of 6, 9, and 20.\n",
    "\n",
    "Write a program to tell you the ***highest*** number of nuggets that you ***cannot*** purchase! Re-read that just in case it slipped past you the first time. The highest number that you cannot get. For example, you ___can___ get 15 nuggets by purchasing a box of 6 and a box of 9 nuggets. You can get 18 by purchasing 2 boxes of 9 nuggets. But you cannot purchase 17 nuggets with any combination of 6, 9, and 20. ___What is the highest number that you cannot get?!___\n",
    "\n",
    "This simple game will give you experience assembling different bits of `Python` programming to find the solution. It will also employ a very simple numerical method called [__brute-force search__](https://en.wikipedia.org/wiki/Brute-force_search#:~:text=In%20computer%20science%2C%20brute%2Dforce,candidate%20satisfies%20the%20problem's%20statement.)."
   ]
  },
  {
   "cell_type": "code",
   "execution_count": 3,
   "metadata": {},
   "outputs": [
    {
     "name": "stdout",
     "output_type": "stream",
     "text": [
      "The largest number of nuggets you cannot get is: 43\n"
     ]
    }
   ],
   "source": [
    "### Problem 1\n",
    "  \n",
    "    ## solution\n",
    "def nugget_number(candidate: int, sizes) -> bool:\n",
    "    SMALL =  sizes ['S']\n",
    "    MEDIUM = sizes ['M']\n",
    "    LARGE = sizes ['L']\n",
    "    for a in range (candidate//SMALL + 1):\n",
    "        for b in range (candidate//MEDIUM + 1):\n",
    "            for c in range (candidate//LARGE + 1):\n",
    "                if candidate == a * SMALL + b * MEDIUM + c * LARGE:\n",
    "                    return True\n",
    "    return False\n",
    "\n",
    "def main():\n",
    "    sizes = {'S' : 6, 'M' : 9, 'L' : 20}\n",
    "    count = 0\n",
    "    largest = 0\n",
    "    candidate = sizes['S']\n",
    "\n",
    "    while count < sizes['S']:\n",
    "        if nugget_number(candidate, sizes):\n",
    "            count += 1\n",
    "        else:\n",
    "            largest = candidate\n",
    "            count = 0\n",
    "        candidate += 1\n",
    "\n",
    "    print(f\"The largest number of nuggets you cannot get is: {largest}\")\n",
    "    \n",
    "if __name__ == '__main__':\n",
    "    main()"
   ]
  },
  {
   "cell_type": "markdown",
   "metadata": {},
   "source": [
    "#### __Problem 2 - The Guess My Number Game (Binary Search)__"
   ]
  },
  {
   "cell_type": "markdown",
   "metadata": {},
   "source": [
    "In the book **[Python Programming for the Absolute Beginner, 3rd Edition](http://goo.gl/7PGr9r)** the author teaches `Python` through some simple game programming. One of the first games that he shows how to write is the so-called ***Guess My Number*** game, which is the children's game of guessing some one's secret number (a number between 1 and 100)."
   ]
  },
  {
   "cell_type": "markdown",
   "metadata": {},
   "source": [
    "Your task in this problem is to now write a version of the *Guess My Number* game where you and the computer switch roles! That is right: you think of a number and the computer must guess it in as few attempts as possible. You will need to encode your guessing logic to the program solution.\n",
    "\n",
    "This might seem like silly game play, but in order to solve the problem you must use an algorithm called [**binary search**](https://en.wikipedia.org/wiki/Binary_search_algorithm) or the **bisection method** to solve the problem correctly. This is our first attempt at programming a simple algorithm. We will see this algorithm later in the context of the ***Black-Scholes-Merton Option Pricing Model*** to calculate the implied volatility of the model. This is something that options traders do thousands and thousands of times a day!"
   ]
  },
  {
   "cell_type": "code",
   "execution_count": null,
   "metadata": {},
   "outputs": [],
   "source": [
    "import numpy as np\n",
    "\n",
    "def main():\n",
    "    input(\"Pick a number between 1 and 100.\\n(Press Enter when ready.)\")\n",
    "    print(\"Let's begin.\")\n",
    "    \n",
    "    yesno = ''; hilo = ''\n",
    "    hi = 101; lo = 0\n",
    "    count = 1\n",
    "    \n",
    "    while (yesno != 'y'):\n",
    "        guess = (hi + lo) // 2\n",
    "        yesno = input(f\"Was the number you picked {guess}? (y/n)\")\n",
    "        if yesno == 'y':\n",
    "            print(f\"I guessed it! The number was {guess}.\\nAnd it only took {count} tries!\")\n",
    "        else:\n",
    "            hilo = input(\"Is the number you picked higher or lower? (hi/lo)\")\n",
    "            if (hilo == 'hi'):\n",
    "                lo = guess\n",
    "            else:\n",
    "                hi = guess\n",
    "        count += 1\n",
    "    \n",
    "if __name__ == \"__main__\":\n",
    "    main()"
   ]
  },
  {
   "cell_type": "markdown",
   "metadata": {},
   "source": [
    "#### __Problem 3 - Bond Prices & Net Present Value__"
   ]
  },
  {
   "cell_type": "markdown",
   "metadata": {},
   "source": [
    "This problem comes from _Chapter 7: Interest Rates and Bond Valuation_ from the textbook _Fundamentals of Corporate Finance 12ed_ by Ross, Westerfield, and Jordan. \n",
    "\n",
    "<br>\n",
    "\n",
    "__The Problem Statement:__\n",
    "\n",
    "<br>\n",
    "\n",
    "A corporate coupon bond has a $10$ percent coupon rate and a $\\$1,000$ face value. Interest is paid semiannually, and the bond has $20$ years to maturity. If investors require a $12$ percent yield, what is the bond's value? What is the effective annual yield on the bond?"
   ]
  },
  {
   "cell_type": "code",
   "execution_count": 9,
   "metadata": {},
   "outputs": [],
   "source": [
    "import numpy as np\n",
    "def present_value(r: float, cash_flows: np.ndarray) -> float:\n",
    "    \n",
    "    pv = 0\n",
    "    \n",
    "    for count, flow in enumerate(cash_flows):\n",
    "        pv += flow/((1+r)**(count+1))\n",
    "        \n",
    "    return pv "
   ]
  },
  {
   "cell_type": "code",
   "execution_count": 10,
   "metadata": {},
   "outputs": [
    {
     "name": "stdout",
     "output_type": "stream",
     "text": [
      "The price of the bond is: $97.22\n",
      "The effective annual yield of the bond is: 12.36%\n"
     ]
    }
   ],
   "source": [
    "def main():\n",
    "    \n",
    "    n = (20*2)\n",
    "    c = 0\n",
    "    fv = 1000\n",
    "    #pv = 0 \n",
    "    r = (0.12/2)\n",
    "    \n",
    "    cash_flows = np.empty(n)\n",
    "    cash_flows.fill(c)\n",
    "    cash_flows[-1] += fv\n",
    "    #print(cash_flows)\n",
    "    \n",
    "    price = present_value(r, cash_flows)\n",
    "    print(f\"The price of the bond is: ${price :.2f}\")\n",
    "    print(f'The effective annual yield of the bond is: {((1+r)**2-1)*100:.02f}%')\n",
    "    \n",
    "if __name__ == '__main__':\n",
    "    main()"
   ]
  },
  {
   "cell_type": "markdown",
   "metadata": {},
   "source": [
    "#### __Problem 4 - Bond Yields & Binary Search__"
   ]
  },
  {
   "cell_type": "markdown",
   "metadata": {},
   "source": [
    "This another problem from _Chapter 7: Interest Rates and Bond Valuation_ from the textbook _Fundamentals of Corporate Finance 12ed_ by Ross, Westerfield, and Jordan. \n",
    "\n",
    "<br>\n",
    "\n",
    "__The Problem Statement:__\n",
    "\n",
    "<br>\n",
    "\n",
    "A corporate coupon bond carries an $8$ percent coupon, paid semiannually. The par value is $\\$1,000$, and the bond matures in six years. If the bond currently sells for $\\$911.37$, what is the yield to maturity? What is the effective annual yield?"
   ]
  },
  {
   "cell_type": "code",
   "execution_count": 11,
   "metadata": {},
   "outputs": [],
   "source": [
    "def bond_factory(face: float, coupon: float, maturity: int, frequency: int) -> np.ndarray:\n",
    "    pmt = coupon * face / frequency\n",
    "    bond = np.full(maturity*frequency,pmt)\n",
    "    bond[-1] += face\n",
    "    return bond"
   ]
  },
  {
   "cell_type": "code",
   "execution_count": 12,
   "metadata": {},
   "outputs": [],
   "source": [
    "def ytm(pv: float, lower: float, upper: float, cash_flows: np.ndarray) -> float:\n",
    "    \n",
    "    while(True): \n",
    "        guess = (lower + upper)/2\n",
    "        #      Guessed price      -       Real price\n",
    "        diff = present_value(guess, cash_flows) - pv\n",
    "        if (abs(diff) < 0.00001):\n",
    "            return guess\n",
    "        else:\n",
    "            if (diff > 0): # The guessed price is too high, so our guess is too low\n",
    "                lower = guess # Since our guess is too low, we raise the lower limit of our search\n",
    "            else:\n",
    "                upper = guess"
   ]
  },
  {
   "cell_type": "code",
   "execution_count": 13,
   "metadata": {},
   "outputs": [
    {
     "name": "stdout",
     "output_type": "stream",
     "text": [
      "The YTM on the bond is 10.00%\n",
      "The effective annual rate is 10.25%.\n"
     ]
    }
   ],
   "source": [
    "def main():\n",
    "    face = 1000.  # Face value of $1,000\n",
    "    coupon = .08  # 8% coupon rate\n",
    "    maturity = 6  # 6 years from the present\n",
    "    frequency = 2 # Semi-annual, twice a year\n",
    "    cash_flows2 = bond_factory(face,coupon,maturity,frequency)\n",
    "    semiannual_rate = ytm(pv = 911.37, lower = 0.01, upper = .2, cash_flows = cash_flows2)\n",
    "    rate = semiannual_rate * 2\n",
    "    print(f\"The YTM on the bond is {rate*100 :.02f}%\")\n",
    "    print(f\"The effective annual rate is {((1+semiannual_rate)**2 - 1)*100:.02f}%.\")\n",
    "    \n",
    "if __name__ == \"__main__\":\n",
    "    main()"
   ]
  },
  {
   "cell_type": "code",
   "execution_count": null,
   "metadata": {},
   "outputs": [],
   "source": []
  }
 ],
 "metadata": {
  "kernelspec": {
   "display_name": "Python 3",
   "language": "python",
   "name": "python3"
  },
  "language_info": {
   "codemirror_mode": {
    "name": "ipython",
    "version": 3
   },
   "file_extension": ".py",
   "mimetype": "text/x-python",
   "name": "python",
   "nbconvert_exporter": "python",
   "pygments_lexer": "ipython3",
   "version": "3.7.7"
  }
 },
 "nbformat": 4,
 "nbformat_minor": 4
}
