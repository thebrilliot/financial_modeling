{
 "cells": [
  {
   "cell_type": "markdown",
   "metadata": {},
   "source": [
    "# Assignment 2 Addendum"
   ]
  },
  {
   "cell_type": "markdown",
   "metadata": {},
   "source": [
    "## Problem 1"
   ]
  },
  {
   "cell_type": "markdown",
   "metadata": {},
   "source": [
    "What is the price of a 10-year, zero-coupon bond paying \\$1, 000 at maturity\n",
    "if the YTM is:"
   ]
  },
  {
   "cell_type": "markdown",
   "metadata": {},
   "source": [
    "a. 5 percent ?\n",
    "b. 10 percent ?\n",
    "c. 15 percent ?"
   ]
  },
  {
   "cell_type": "code",
   "execution_count": 1,
   "metadata": {},
   "outputs": [],
   "source": [
    "import numpy as np"
   ]
  },
  {
   "cell_type": "code",
   "execution_count": 2,
   "metadata": {},
   "outputs": [],
   "source": [
    "def present_value(r: float, cash_flows: np.ndarray) -> float:\n",
    "    \n",
    "    pv = 0\n",
    "    \n",
    "    for count, flow in enumerate(cash_flows):\n",
    "        pv += flow/((1+r)**(count+1))\n",
    "        \n",
    "    return pv "
   ]
  },
  {
   "cell_type": "code",
   "execution_count": 15,
   "metadata": {},
   "outputs": [
    {
     "data": {
      "text/plain": [
       "array([   0.,    0.,    0.,    0.,    0.,    0.,    0.,    0.,    0.,\n",
       "          0.,    0.,    0.,    0.,    0.,    0.,    0.,    0.,    0.,\n",
       "          0., 1000.])"
      ]
     },
     "execution_count": 15,
     "metadata": {},
     "output_type": "execute_result"
    }
   ],
   "source": [
    "def bond_factory(coupon: float, maturity: int, frequency: int = 2, face: float = 1000.) -> np.ndarray:\n",
    "    pmt = coupon * face / frequency\n",
    "    bond = np.full(maturity*frequency,pmt)\n",
    "    bond[-1] += face\n",
    "    return bond"
   ]
  },
  {
   "cell_type": "code",
   "execution_count": 16,
   "metadata": {},
   "outputs": [],
   "source": [
    "def ytm(pv: float, cash_flows: np.ndarray, lower: float = 0., upper: float = 1.) -> float:\n",
    "    \n",
    "    while(True): \n",
    "        guess = (lower + upper)/2\n",
    "        #      Guessed price      -       Real price\n",
    "        diff = present_value(guess, cash_flows) - pv\n",
    "        if (abs(diff) < 0.00001):\n",
    "            return guess\n",
    "        else:\n",
    "            if (diff > 0): # The guessed price is too high, so our guess is too low\n",
    "                lower = guess # Since our guess is too low, we raise the lower limit of our search\n",
    "            else:\n",
    "                upper = guess"
   ]
  },
  {
   "cell_type": "code",
   "execution_count": 18,
   "metadata": {},
   "outputs": [
    {
     "name": "stdout",
     "output_type": "stream",
     "text": [
      "The price of a 10-year, zero-coupon bond with a par value of $1,000 a YTM of 5% is $376.89.\n",
      "The price of a 10-year, zero-coupon bond with a par value of $1,000 a YTM of 10% is $148.64.\n",
      "The price of a 10-year, zero-coupon bond with a par value of $1,000 a YTM of 15% is $61.10.\n"
     ]
    }
   ],
   "source": [
    "l = [.05,.10,.15]\n",
    "bond = bond_factory(0.,10)\n",
    "for rate in l:\n",
    "    print(f'The price of a 10-year, zero-coupon bond with a par value of $1,000 a YTM of {rate*100:.00f}% is ${present_value(rate,bond):.02f}.')"
   ]
  },
  {
   "cell_type": "markdown",
   "metadata": {},
   "source": [
    "## Problem 2"
   ]
  },
  {
   "cell_type": "markdown",
   "metadata": {},
   "source": [
    "Calculate the price of 25-year, 7 percent coupon bond with a \\$1,000 par value that makes semiannual payments with a YTM of:"
   ]
  },
  {
   "cell_type": "markdown",
   "metadata": {},
   "source": [
    "a. 7 percent\n",
    "b. 9 percent\n",
    "c. 5 percent"
   ]
  },
  {
   "cell_type": "code",
   "execution_count": 29,
   "metadata": {},
   "outputs": [
    {
     "name": "stdout",
     "output_type": "stream",
     "text": [
      "a. With a YTM of 7 percent, the price is $516.97.\n",
      "b. With a YTM of 9 percent, the price is $397.11.\n",
      "c. With a YTM of 5 percent, the price is $726.16.\n"
     ]
    }
   ],
   "source": [
    "letters = ['a','b','c']\n",
    "rates = [.07,.09,.05]\n",
    "lists = [letters,rates]\n",
    "tuples = zip(*lists)\n",
    "\n",
    "bond = bond_factory(0.07,25)\n",
    "for letter, rate in tuples:\n",
    "    print(f'{letter}. With a YTM of {rate*100:.00f} percent, the price is ${present_value(rate,bond):.02f}.')"
   ]
  },
  {
   "cell_type": "code",
   "execution_count": null,
   "metadata": {},
   "outputs": [],
   "source": []
  }
 ],
 "metadata": {
  "kernelspec": {
   "display_name": "Python 3",
   "language": "python",
   "name": "python3"
  },
  "language_info": {
   "codemirror_mode": {
    "name": "ipython",
    "version": 3
   },
   "file_extension": ".py",
   "mimetype": "text/x-python",
   "name": "python",
   "nbconvert_exporter": "python",
   "pygments_lexer": "ipython3",
   "version": "3.7.7"
  }
 },
 "nbformat": 4,
 "nbformat_minor": 4
}
