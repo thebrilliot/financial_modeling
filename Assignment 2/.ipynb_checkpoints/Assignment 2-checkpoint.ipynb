{
 "cells": [
  {
   "cell_type": "code",
   "execution_count": 1,
   "metadata": {},
   "outputs": [],
   "source": [
    "### Setup\n",
    "import numpy as np"
   ]
  },
  {
   "cell_type": "code",
   "execution_count": 27,
   "metadata": {},
   "outputs": [
    {
     "name": "stdout",
     "output_type": "stream",
     "text": [
      "1 is not a number of nuggets we can buy\n",
      "The largest number of nuggets that we cannot buy is 1\n"
     ]
    }
   ],
   "source": [
    "### Problem 1\n",
    "\n",
    "def nugs(x):\n",
    "        return 6*x[0] + 9*x[1] + 20*x[2]\n",
    "\n",
    "def main():\n",
    "            # 6,9,20\n",
    "    x = [1,1,1]\n",
    "    ### [1,0,0] = 6 nuggets\n",
    "    ### [0,1,0] = 9 nuggets\n",
    "    ### [0,0,1] = 20 nuggets    \n",
    "    #print(nugs(x))\n",
    "    \n",
    "    n = 1 ### The number of nuggets that we are checking for\n",
    "    count = 0 ### Number of consecutive possible numbers of nuggets\n",
    "    l = []\n",
    "    #i = [False,False,False] ### When all are True, we know that we can't find that number of nuggets\n",
    "    i = [True,True,True]\n",
    "    \n",
    "    #while(count < 20):\n",
    "    x = [0,0,0]\n",
    "    if (nugs(x) == n):\n",
    "        n += 1\n",
    "        count += 1\n",
    "        #continue\n",
    "    elif ((i[0] is True) & (i[1] is True) & (i[2] is True)):\n",
    "        print(str(n) + ' is not a number of nuggets we can buy')\n",
    "        l.append(n)\n",
    "        \n",
    "    print('The largest number of nuggets that we cannot buy is '+str(max(l)))\n",
    "    \n",
    "if __name__ == \"__main__\":\n",
    "    main()"
   ]
  },
  {
   "cell_type": "code",
   "execution_count": null,
   "metadata": {},
   "outputs": [],
   "source": [
    "### Problem 2\n",
    "\n",
    "def main():\n",
    "    # your code goes here!\n",
    "    print(\"Good luck!\") # delete this line of code\n",
    "    \n",
    "if __name__ == \"__main__\":\n",
    "    main()"
   ]
  },
  {
   "cell_type": "code",
   "execution_count": null,
   "metadata": {},
   "outputs": [],
   "source": [
    "### Problem 3\n",
    "\n",
    "def present_value(rate: float, cash_flows: np.ndarray) -> float:\n",
    "    ## TODO: replace the hardcoded value with actual\n",
    "    ##       code to calculate the bond price\n",
    "    price = 849.54\n",
    "    return price"
   ]
  },
  {
   "cell_type": "code",
   "execution_count": null,
   "metadata": {},
   "outputs": [],
   "source": [
    "## Here is how to set up the bond's cash flows\n",
    "cash_flows = np.empty(40)\n",
    "cash_flows.fill(50.0)\n",
    "cash_flows[-1] += 1000.0"
   ]
  },
  {
   "cell_type": "code",
   "execution_count": null,
   "metadata": {},
   "outputs": [],
   "source": [
    "## Let's check it\n",
    "cash_flows"
   ]
  },
  {
   "cell_type": "code",
   "execution_count": null,
   "metadata": {},
   "outputs": [],
   "source": [
    "## Get the bond price and print it with proper formatting\n",
    "rate = 0.06\n",
    "price = present_value(rate, cash_flows)\n",
    "print(f\"The price of the bond is: ${price :,.2f}\")"
   ]
  },
  {
   "cell_type": "code",
   "execution_count": null,
   "metadata": {},
   "outputs": [],
   "source": [
    "### Problem 4\n",
    "\n",
    "def ytm(pv: float, lower: float, upper: float, cash_flows: np.ndarray) -> float:\n",
    "    ytm = 0.10 ## replace this with the calculation\n",
    "    return ytm"
   ]
  },
  {
   "cell_type": "code",
   "execution_count": null,
   "metadata": {},
   "outputs": [],
   "source": [
    "## Here is how to set up the bond's cash flows\n",
    "cash_flows2 = np.empty(12)\n",
    "cash_flows2.fill(40.0)\n",
    "cash_flows2[-1] += 1000.0"
   ]
  },
  {
   "cell_type": "code",
   "execution_count": null,
   "metadata": {},
   "outputs": [],
   "source": [
    "ytm(911.37, 0.01, .2, cash_flows2)"
   ]
  }
 ],
 "metadata": {
  "kernelspec": {
   "display_name": "Python 3",
   "language": "python",
   "name": "python3"
  },
  "language_info": {
   "codemirror_mode": {
    "name": "ipython",
    "version": 3
   },
   "file_extension": ".py",
   "mimetype": "text/x-python",
   "name": "python",
   "nbconvert_exporter": "python",
   "pygments_lexer": "ipython3",
   "version": "3.7.7"
  }
 },
 "nbformat": 4,
 "nbformat_minor": 4
}
