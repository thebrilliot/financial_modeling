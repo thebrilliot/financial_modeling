{
 "cells": [
  {
   "cell_type": "code",
   "execution_count": 1,
   "metadata": {},
   "outputs": [],
   "source": [
    "### Setup\n",
    "import numpy as np"
   ]
  },
  {
   "cell_type": "code",
   "execution_count": 2,
   "metadata": {},
   "outputs": [
    {
     "name": "stdout",
     "output_type": "stream",
     "text": [
      "The largest number of nuggets you cannot get is: 43\n"
     ]
    }
   ],
   "source": [
    "### Problem 1\n",
    "  \n",
    "    ## solution\n",
    "def nugget_number(candidate: int, sizes) -> bool:\n",
    "    SMALL =  sizes ['S']\n",
    "    MEDIUM = sizes ['M']\n",
    "    LARGE = sizes ['L']\n",
    "    for a in range (candidate//SMALL + 1):\n",
    "        for b in range (candidate//MEDIUM + 1):\n",
    "            for c in range (candidate//LARGE + 1):\n",
    "                if candidate == a * SMALL + b * MEDIUM + c * LARGE:\n",
    "                    return True\n",
    "    return False\n",
    "\n",
    "def main():\n",
    "    sizes = {'S' : 6, 'M' : 9, 'L' : 20}\n",
    "    count = 0\n",
    "    largest = 0\n",
    "    candidate = sizes['S']\n",
    "\n",
    "    while count < sizes['S']:\n",
    "        if nugget_number(candidate, sizes):\n",
    "            count += 1\n",
    "        else:\n",
    "            largest = candidate\n",
    "            count = 0\n",
    "        candidate += 1\n",
    "\n",
    "    print(f\"The largest number of nuggets you cannot get is: {largest}\")"
   ]
  },
  {
   "cell_type": "code",
   "execution_count": null,
   "metadata": {},
   "outputs": [],
   "source": [
    "### Problem 2\n",
    "\n",
    "def main():\n",
    "    # your code goes here!\n",
    "    print(\"Good luck!\") # delete this line of code\n",
    "    \n",
    "if __name__ == \"__main__\":\n",
    "    main()"
   ]
  },
  {
   "cell_type": "code",
   "execution_count": null,
   "metadata": {},
   "outputs": [],
   "source": [
    "### Problem 3\n",
    "\n",
    "def present_value(rate: float, cash_flows: np.ndarray) -> float:\n",
    "    ## TODO: replace the hardcoded value with actual\n",
    "    ##       code to calculate the bond price\n",
    "    price = 849.54\n",
    "    return price"
   ]
  },
  {
   "cell_type": "code",
   "execution_count": null,
   "metadata": {},
   "outputs": [],
   "source": [
    "## Here is how to set up the bond's cash flows\n",
    "cash_flows = np.empty(40)\n",
    "cash_flows.fill(50.0)\n",
    "cash_flows[-1] += 1000.0"
   ]
  },
  {
   "cell_type": "code",
   "execution_count": null,
   "metadata": {},
   "outputs": [],
   "source": [
    "## Let's check it\n",
    "cash_flows"
   ]
  },
  {
   "cell_type": "code",
   "execution_count": null,
   "metadata": {},
   "outputs": [],
   "source": [
    "## Get the bond price and print it with proper formatting\n",
    "rate = 0.06\n",
    "price = present_value(rate, cash_flows)\n",
    "print(f\"The price of the bond is: ${price :,.2f}\")"
   ]
  },
  {
   "cell_type": "code",
   "execution_count": null,
   "metadata": {},
   "outputs": [],
   "source": [
    "### Problem 4\n",
    "\n",
    "def ytm(pv: float, lower: float, upper: float, cash_flows: np.ndarray) -> float:\n",
    "    ytm = 0.10 ## replace this with the calculation\n",
    "    return ytm"
   ]
  },
  {
   "cell_type": "code",
   "execution_count": null,
   "metadata": {},
   "outputs": [],
   "source": [
    "## Here is how to set up the bond's cash flows\n",
    "cash_flows2 = np.empty(12)\n",
    "cash_flows2.fill(40.0)\n",
    "cash_flows2[-1] += 1000.0"
   ]
  },
  {
   "cell_type": "code",
   "execution_count": null,
   "metadata": {},
   "outputs": [],
   "source": [
    "ytm(911.37, 0.01, .2, cash_flows2)"
   ]
  }
 ],
 "metadata": {
  "kernelspec": {
   "display_name": "Python 3",
   "language": "python",
   "name": "python3"
  },
  "language_info": {
   "codemirror_mode": {
    "name": "ipython",
    "version": 3
   },
   "file_extension": ".py",
   "mimetype": "text/x-python",
   "name": "python",
   "nbconvert_exporter": "python",
   "pygments_lexer": "ipython3",
   "version": "3.7.7"
  }
 },
 "nbformat": 4,
 "nbformat_minor": 4
}
