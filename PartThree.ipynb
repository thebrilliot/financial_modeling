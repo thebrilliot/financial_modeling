{
 "cells": [
  {
   "cell_type": "markdown",
   "metadata": {},
   "source": [
    "## Part III: Simulating Binomial Trees\n",
    "\n",
    "Write a Jupyter notebook named PartThree.ipynb to solve the following problems. Make sure to import\n",
    "the options.py module at the top of your notebook. You should know how to do that by now, so I won’t\n",
    "belabor the point."
   ]
  },
  {
   "cell_type": "markdown",
   "metadata": {},
   "source": [
    "### Problem 1\n",
    "• Complete the function binomial_path in the options.py module that simulates a binomial path.\n",
    "\n",
    "• This step is to be completed prior to being imported for the problem below."
   ]
  },
  {
   "cell_type": "markdown",
   "metadata": {},
   "source": [
    "### Problem 2\n",
    "• Set-up: Let $S_0 = \\$100$, $r = 8\\%$ (continuously compounded), $\\sigma = 30\\%$, $\\delta = 5\\%$, and $T =$ 1 year.\n",
    "\n",
    "• Set $n = 252$ (i.e. roughly the number of trading days per year so that each sub-period is a single day).\n",
    "\n",
    "• Simulate a binomial path using your new function.\n",
    "\n",
    "• Use the Matplotlib.pyplot function plot to make a plot of your simulated path. Label your axes\n",
    "appropriately."
   ]
  },
  {
   "cell_type": "code",
   "execution_count": null,
   "metadata": {},
   "outputs": [],
   "source": []
  }
 ],
 "metadata": {
  "kernelspec": {
   "display_name": "Python 3",
   "language": "python",
   "name": "python3"
  },
  "language_info": {
   "codemirror_mode": {
    "name": "ipython",
    "version": 3
   },
   "file_extension": ".py",
   "mimetype": "text/x-python",
   "name": "python",
   "nbconvert_exporter": "python",
   "pygments_lexer": "ipython3",
   "version": "3.7.7"
  }
 },
 "nbformat": 4,
 "nbformat_minor": 4
}
