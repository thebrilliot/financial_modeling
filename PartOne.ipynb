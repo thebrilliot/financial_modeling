{
 "cells": [
  {
   "cell_type": "markdown",
   "metadata": {},
   "source": [
    "## Part I"
   ]
  },
  {
   "cell_type": "markdown",
   "metadata": {},
   "source": [
    "### Problem 1"
   ]
  },
  {
   "cell_type": "markdown",
   "metadata": {},
   "source": [
    "a) We should have the european_binomial_pricer function finished already so we import it from options.py"
   ]
  },
  {
   "cell_type": "code",
   "execution_count": 17,
   "metadata": {},
   "outputs": [],
   "source": [
    "import options as opt\n",
    "euro = opt.european_binomial_pricer"
   ]
  },
  {
   "cell_type": "code",
   "execution_count": 21,
   "metadata": {},
   "outputs": [],
   "source": [
    "spot = 100\n",
    "strike = 105\n",
    "rate = .08 # 8 percent\n",
    "time = 1 # 1 year\n",
    "nper = 1\n",
    "div = 0\n",
    "sigma = .2 # 20 percent\n",
    "call_price = euro(spot,strike,rate,time,nper,div,sigma,option='call')\n",
    "put_price = euro(spot,strike,rate,time,nper,div,sigma,option='put')\n"
   ]
  },
  {
   "cell_type": "markdown",
   "metadata": {},
   "source": [
    "b) We then run these through our `european_binomial_pricer` function and check it against a 'handwritten' solution."
   ]
  },
  {
   "cell_type": "code",
   "execution_count": 25,
   "metadata": {},
   "outputs": [
    {
     "name": "stdout",
     "output_type": "stream",
     "text": [
      "The european_binomial_pricer function gives us a call price of $10.84 and a put price of $7.76 which are identical to our handwritten calculations, $XX.XX and $YY.YY\n"
     ]
    }
   ],
   "source": [
    "str1 = f'The european_binomial_pricer function gives us a call price of ${call_price:.02f}'\n",
    "str2 = f' and a put price of ${put_price:.02f}'\n",
    "str3 = f' which are identical to our handwritten calculations, $XX.XX and $YY.YY'\n",
    "print(str1+str2+str3)"
   ]
  },
  {
   "cell_type": "markdown",
   "metadata": {},
   "source": [
    "c) Change `nper` to 3 and check again against another handwritten solution."
   ]
  },
  {
   "cell_type": "code",
   "execution_count": 29,
   "metadata": {},
   "outputs": [
    {
     "name": "stdout",
     "output_type": "stream",
     "text": [
      "23.66376111031756 6.259686522305634\n"
     ]
    }
   ],
   "source": [
    "nper = 3\n",
    "call_price = euro(spot,strike,rate,time,nper,div,sigma,option='call')\n",
    "put_price = euro(spot,strike,rate,time,nper,div,sigma,option='put')\n",
    "print(call_price,put_price)"
   ]
  },
  {
   "cell_type": "markdown",
   "metadata": {},
   "source": [
    "d) Change `nper` to 200 and see what happens"
   ]
  },
  {
   "cell_type": "code",
   "execution_count": 30,
   "metadata": {},
   "outputs": [
    {
     "name": "stdout",
     "output_type": "stream",
     "text": [
      "99.99998818383183 2.424804206146024e-11\n"
     ]
    }
   ],
   "source": [
    "nper = 200\n",
    "call_price = euro(spot,strike,rate,time,nper,div,sigma,option='call')\n",
    "put_price = euro(spot,strike,rate,time,nper,div,sigma,option='put')\n",
    "print(call_price,put_price)"
   ]
  },
  {
   "cell_type": "markdown",
   "metadata": {},
   "source": [
    "### Problem 2"
   ]
  },
  {
   "cell_type": "markdown",
   "metadata": {},
   "source": [
    "a) Using the Black-Scholes model (Chapter 12), price the options again with functions in the `options` module"
   ]
  },
  {
   "cell_type": "markdown",
   "metadata": {},
   "source": [
    "b) Use the `european_binomial_pricer` function with the following values: n = 20, 40, 60, 80, . . . , 200 (i.e. increment by 20). Compare to the Black-Scholes prices obtained above. Make a table to report the results. What can you say about the European Binomial model relative to the Black-Scholes model?\n",
    "\n",
    "Discuss the convergence of the European Binomial to the Black-Scholes model."
   ]
  }
 ],
 "metadata": {
  "kernelspec": {
   "display_name": "Python 3",
   "language": "python",
   "name": "python3"
  },
  "language_info": {
   "codemirror_mode": {
    "name": "ipython",
    "version": 3
   },
   "file_extension": ".py",
   "mimetype": "text/x-python",
   "name": "python",
   "nbconvert_exporter": "python",
   "pygments_lexer": "ipython3",
   "version": "3.7.7"
  }
 },
 "nbformat": 4,
 "nbformat_minor": 4
}
