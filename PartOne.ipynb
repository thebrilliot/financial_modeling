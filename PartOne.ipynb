{
 "cells": [
  {
   "cell_type": "markdown",
   "metadata": {},
   "source": [
    "## Part I"
   ]
  },
  {
   "cell_type": "markdown",
   "metadata": {},
   "source": [
    "### Problem 1"
   ]
  },
  {
   "cell_type": "markdown",
   "metadata": {},
   "source": [
    "##### a) We should have the european_binomial_pricer function finished already so we import it from options.py"
   ]
  },
  {
   "cell_type": "code",
   "execution_count": 23,
   "metadata": {},
   "outputs": [],
   "source": [
    "import numpy as np\n",
    "import options as opt\n",
    "import matplotlib.pyplot as plt\n",
    "euro = opt.european_binomial_pricer"
   ]
  },
  {
   "cell_type": "code",
   "execution_count": 14,
   "metadata": {},
   "outputs": [
    {
     "name": "stdout",
     "output_type": "stream",
     "text": [
      "11.350062186067705 8.277278556664449\n"
     ]
    }
   ],
   "source": [
    "spot = 100\n",
    "strike = 105\n",
    "expiry = 1 # 1 year\n",
    "rate = .08 # 8 percent\n",
    "div = 0.\n",
    "num = 1\n",
    "vol = .2 # 20 percent\n",
    "binom_call = euro(spot,strike,expiry,rate,div,vol,num,option='call')\n",
    "binom_put = euro(spot,strike,expiry,rate,div,vol,num,option='put')\n",
    "print(binom_call, binom_put)"
   ]
  },
  {
   "cell_type": "markdown",
   "metadata": {},
   "source": [
    "##### b) We then run these through our `european_binomial_pricer` function and check it against a 'handwritten' solution."
   ]
  },
  {
   "cell_type": "code",
   "execution_count": 15,
   "metadata": {},
   "outputs": [
    {
     "name": "stdout",
     "output_type": "stream",
     "text": [
      "The european_binomial_pricer function gives us a call price of $11.35 and a put price of $8.28 which are identical to our handwritten calculations, $11.35 and $7.76. (See See Final hand written solutions.xlsx)\n"
     ]
    }
   ],
   "source": [
    "str1 = f'The european_binomial_pricer function gives us a call price of ${binom_call:.02f}'\n",
    "str2 = f' and a put price of ${binom_put:.02f}'\n",
    "str3 = f' which are identical to our handwritten calculations, $11.35 and $7.76. (See See Final hand written solutions.xlsx)'\n",
    "print(str1+str2+str3)"
   ]
  },
  {
   "cell_type": "markdown",
   "metadata": {},
   "source": [
    "##### c) Change `num` to 3 and check again against another handwritten solution."
   ]
  },
  {
   "cell_type": "code",
   "execution_count": 16,
   "metadata": {},
   "outputs": [
    {
     "name": "stdout",
     "output_type": "stream",
     "text": [
      "10.044685209190392 6.971901579787161\n"
     ]
    }
   ],
   "source": [
    "num = 3\n",
    "euro_call = euro(spot,strike,expiry,rate,div,vol,num,option='call')\n",
    "euro_put = euro(spot,strike,expiry,rate,div,vol,num,option='put')\n",
    "print(euro_call,euro_put)"
   ]
  },
  {
   "cell_type": "code",
   "execution_count": 17,
   "metadata": {},
   "outputs": [
    {
     "name": "stdout",
     "output_type": "stream",
     "text": [
      "With 3 periods, the european_binomial_pricer function gives us a call price of $10.04 and a put price of $6.97 which are identical to our handwritten calculations, $10.04 and $6.97. (See Final hand written solutions.xlsx)\n"
     ]
    }
   ],
   "source": [
    "str1 = f'With 3 periods, the european_binomial_pricer function gives us a call price of ${euro_call:.02f}'\n",
    "str2 = f' and a put price of ${euro_put:.02f}'\n",
    "str3 = f' which are identical to our handwritten calculations, $10.04 and $6.97. (See Final hand written solutions.xlsx)'\n",
    "print(str1+str2+str3)"
   ]
  },
  {
   "cell_type": "markdown",
   "metadata": {},
   "source": [
    "##### d) Change `num` to 200 and see what happens"
   ]
  },
  {
   "cell_type": "code",
   "execution_count": 18,
   "metadata": {},
   "outputs": [
    {
     "name": "stdout",
     "output_type": "stream",
     "text": [
      "9.471909781165543 6.39912615176046\n"
     ]
    }
   ],
   "source": [
    "num = 200\n",
    "euro_call = euro(spot,strike,expiry,rate,div,vol,num,option='call')\n",
    "euro_put = euro(spot,strike,expiry,rate,div,vol,num,option='put')\n",
    "print(euro_call,euro_put)"
   ]
  },
  {
   "cell_type": "code",
   "execution_count": 19,
   "metadata": {},
   "outputs": [
    {
     "name": "stdout",
     "output_type": "stream",
     "text": [
      "With 200 periods, the european_binomial_pricer function gives us a call price of $9.47 and a put price of $6.40.\n"
     ]
    }
   ],
   "source": [
    "str1 = f'With 200 periods, the european_binomial_pricer function gives us a call price of ${euro_call:.02f}'\n",
    "str2 = f' and a put price of ${euro_put:.02f}.'\n",
    "print(str1+str2)"
   ]
  },
  {
   "cell_type": "markdown",
   "metadata": {},
   "source": [
    "### Problem 2"
   ]
  },
  {
   "cell_type": "markdown",
   "metadata": {},
   "source": [
    "##### a) Using the Black-Scholes model (Chapter 12), price the options again with functions in the `options` module"
   ]
  },
  {
   "cell_type": "code",
   "execution_count": 20,
   "metadata": {},
   "outputs": [
    {
     "name": "stdout",
     "output_type": "stream",
     "text": [
      "8.65018212986152 5.577398500458276\n"
     ]
    }
   ],
   "source": [
    "black_call = opt.black_scholes_call\n",
    "black_put = opt.black_scholes_put\n",
    "bs_call = black_call(spot,strike,expiry,rate,div,vol)\n",
    "bs_put = black_put(spot,strike,expiry,rate,div,vol)\n",
    "print(bs_call,bs_put)"
   ]
  },
  {
   "cell_type": "markdown",
   "metadata": {},
   "source": [
    "##### b) Use the `european_binomial_pricer` function with the following values: n = 20, 40, 60, 80, . . . , 200 (i.e. increment by 20). Compare to the Black-Scholes prices obtained above. Make a table to report the results. What can you say about the European Binomial model relative to the Black-Scholes model?"
   ]
  },
  {
   "cell_type": "code",
   "execution_count": 21,
   "metadata": {},
   "outputs": [
    {
     "name": "stdout",
     "output_type": "stream",
     "text": [
      "[9.55154586 9.52237315 9.50378097 9.49105269 9.48166431 9.47436993\n",
      " 9.46848768 9.4636108  9.46750984 9.47190978 9.47493789 9.47700484\n",
      " 9.47838265 9.47925712 9.4797584  9.4799797  9.47998901 9.47983672\n",
      " 9.47956067 9.47918966 9.47874581 9.47824626 9.47770443 9.47713084\n",
      " 9.47653386]\n",
      "[6.47876223 6.44958952 6.43099734 6.41826906 6.40888068 6.4015863\n",
      " 6.39570405 6.39082717 6.39472621 6.39912615 6.40215426 6.40422121\n",
      " 6.40559903 6.40647349 6.40697477 6.40719607 6.40720538 6.40705309\n",
      " 6.40677704 6.40640603 6.40596218 6.40546263 6.4049208  6.40434721\n",
      " 6.40375023]\n"
     ]
    }
   ],
   "source": [
    "euro_calls = np.array([euro(spot,strike,expiry,rate,div,vol,num,option='call') for num in range(20,520,20)])\n",
    "euro_puts = np.array([euro(spot,strike,expiry,rate,div,vol,num,option='put') for num in range(20,520,20)])\n",
    "print(euro_calls)\n",
    "print(euro_puts)"
   ]
  },
  {
   "cell_type": "markdown",
   "metadata": {},
   "source": [
    "##### Discuss the convergence of the European Binomial to the Black-Scholes model."
   ]
  },
  {
   "cell_type": "markdown",
   "metadata": {},
   "source": [
    "It doesn't look like they converge..."
   ]
  },
  {
   "cell_type": "code",
   "execution_count": 28,
   "metadata": {},
   "outputs": [
    {
     "data": {
      "text/plain": [
       "<matplotlib.table.Table at 0x1ce8fc403c8>"
      ]
     },
     "execution_count": 28,
     "metadata": {},
     "output_type": "execute_result"
    },
    {
     "data": {
      "image/png": "[encoded data removed]",
      "text/plain": [
       "<Figure size 432x288 with 1 Axes>"
      ]
     },
     "metadata": {
      "needs_background": "light"
     },
     "output_type": "display_data"
    }
   ],
   "source": [
    "plt.table(cellText = [[1,2],[3,4]],\n",
    "          rowLabels=['row1','row2'],\n",
    "          colLabels=['col1','col2'])"
   ]
  },
  {
   "cell_type": "code",
   "execution_count": null,
   "metadata": {},
   "outputs": [],
   "source": []
  }
 ],
 "metadata": {
  "kernelspec": {
   "display_name": "Python 3",
   "language": "python",
   "name": "python3"
  },
  "language_info": {
   "codemirror_mode": {
    "name": "ipython",
    "version": 3
   },
   "file_extension": ".py",
   "mimetype": "text/x-python",
   "name": "python",
   "nbconvert_exporter": "python",
   "pygments_lexer": "ipython3",
   "version": "3.7.7"
  }
 },
 "nbformat": 4,
 "nbformat_minor": 4
}
