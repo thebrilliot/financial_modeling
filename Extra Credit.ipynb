{
 "cells": [
  {
   "cell_type": "markdown",
   "metadata": {},
   "source": [
    "## Extra Credit\n",
    "• Set-up: Let $S_0$ = \\\\$41.0, $K = \\$40.0$, $T = 1$ year, $σ = 30%$ per annum, $r = 8%$ per annum, $δ = 0$."
   ]
  },
  {
   "cell_type": "code",
   "execution_count": 1,
   "metadata": {},
   "outputs": [],
   "source": [
    "import options as opt\n",
    "import numpy as np\n",
    "spot = 41\n",
    "strike = 40\n",
    "expiry = 1\n",
    "vol = .3\n",
    "rate = .08\n",
    "div = 0"
   ]
  },
  {
   "cell_type": "markdown",
   "metadata": {},
   "source": [
    "• Price both European call and put options with the Black-Scholes model and the European Binomial\n",
    "model with $n = 200$ time steps."
   ]
  },
  {
   "cell_type": "code",
   "execution_count": 47,
   "metadata": {},
   "outputs": [],
   "source": [
    "euro = opt.european_binomial_pricer\n",
    "black_call = opt.black_scholes_call\n",
    "black_put = opt.black_scholes_put\n",
    "\n",
    "num = 200\n",
    "euro_call = euro(spot,strike,expiry,rate,div,vol,num,option='call')\n",
    "euro_put = euro(spot,strike,expiry,rate,div,vol,num,option='put')\n",
    "bs_call = black_call(spot,strike,expiry,rate,div,vol)\n",
    "bs_put = black_put(spot,strike,expiry,rate,div,vol)"
   ]
  },
  {
   "cell_type": "markdown",
   "metadata": {},
   "source": [
    "##### • Now write a function that prices the European call and put via Monte Carlo simulation.\n",
    "– The solution should use your binomial path simulation to simulate M = 10, 000 simulated paths\n",
    "through the tree.\n",
    "\n",
    "– This will give you $M$ different terminal stock prices."
   ]
  },
  {
   "cell_type": "code",
   "execution_count": 48,
   "metadata": {},
   "outputs": [],
   "source": [
    "def monte_carlo_prices(spot,expiry,rate,div,vol,num,m) -> np.ndarray:\n",
    "    return np.array([opt.binomial_path(spot,expiry,rate,div,vol,num)[-1] for i in range(m)])"
   ]
  },
  {
   "cell_type": "markdown",
   "metadata": {},
   "source": [
    "– Get the corresponding option payoffs using the payoff function."
   ]
  },
  {
   "cell_type": "code",
   "execution_count": 49,
   "metadata": {},
   "outputs": [],
   "source": [
    "m = 10**4\n",
    "stock_prices = monte_carlo_prices(spot,expiry,rate,div,vol,num,m)\n",
    "call_payoffs = opt.call_payoff(stock_prices,strike)\n",
    "put_payoffs = opt.put_payoff(stock_prices,strike)"
   ]
  },
  {
   "cell_type": "markdown",
   "metadata": {},
   "source": [
    "– Take an average of the option payoffs with the Numpy method `np.mean`.\n",
    "\n",
    "– Discount this value to time zero and compare it with the Black-Scholes and European Binomial model prices."
   ]
  },
  {
   "cell_type": "code",
   "execution_count": 54,
   "metadata": {},
   "outputs": [
    {
     "name": "stdout",
     "output_type": "stream",
     "text": [
      "\t\tCall\tPut\n",
      "European\t$6.97\t$2.89\n",
      "Black-Scholes\t$6.96\t$2.89\n",
      "Monte-Carlo\t$8.47\t$2.33\n"
     ]
    }
   ],
   "source": [
    "call_price = call_payoffs.mean() * np.exp(-rate*expiry)\n",
    "put_price = put_payoffs.mean() * np.exp(-rate*expiry)\n",
    "\n",
    "print('\\t\\tCall\\tPut')\n",
    "print(f'European\\t${euro_call:.02f}\\t${euro_put:.02f}')\n",
    "print(f'Black-Scholes\\t${bs_call:.02f}\\t${bs_put:.02f}')\n",
    "print(f'Monte-Carlo\\t${call_price:.02f}\\t${put_price:.02f}')"
   ]
  },
  {
   "cell_type": "markdown",
   "metadata": {},
   "source": [
    "– Also calculate the standard error of the simulation with `np.std` and divide by `np.sqrt(M)`.\n",
    "\n",
    "– Repeat for $M = 25000, 50000, 75000, \\text{ and } 100000$.\n",
    "\n",
    "– Make a table to report the data (both discounted mean and standard errors)."
   ]
  },
  {
   "cell_type": "code",
   "execution_count": 44,
   "metadata": {},
   "outputs": [
    {
     "name": "stdout",
     "output_type": "stream",
     "text": [
      "Standard error for the simulation is 0.14355730708186698\n"
     ]
    }
   ],
   "source": [
    "print(f'Standard error for the simulation is {stock_prices.std()/np.sqrt(m)}')"
   ]
  },
  {
   "cell_type": "markdown",
   "metadata": {},
   "source": [
    "– Repeat for $M = 25000, 50000, 75000, \\text{ and } 100000$.\n",
    "\n",
    "– Make a table to report the data (both discounted mean and standard errors)."
   ]
  },
  {
   "cell_type": "code",
   "execution_count": 40,
   "metadata": {},
   "outputs": [
    {
     "name": "stdout",
     "output_type": "stream",
     "text": [
      "M\tCall\tPut\tStd Error\n",
      "10000\t$8.27\t$2.40\t0.14226319760702164\n",
      "25000\t$8.32\t$2.31\t0.0903098295142654\n",
      "50000\t$8.30\t$2.36\t0.06354700381794003\n",
      "75000\t$8.36\t$2.33\t0.052347750097701685\n",
      "100000\t$8.31\t$2.38\t0.045113645148010924\n"
     ]
    }
   ],
   "source": [
    "ms = [10000,25000,50000,75000,100000]\n",
    "print('M\\tCall\\tPut\\tStd Error')\n",
    "for m in ms:\n",
    "    stock_prices = monte_carlo_prices(spot,expiry,rate,div,vol,num,m)\n",
    "    call_payoffs = opt.call_payoff(stock_prices,strike)\n",
    "    put_payoffs = opt.put_payoff(stock_prices,strike)\n",
    "    \n",
    "    call_price = call_payoffs.mean() * np.exp(-rate*expiry)\n",
    "    put_price = put_payoffs.mean() * np.exp(-rate*expiry)\n",
    "    \n",
    "    std_error = stock_prices.std()/np.sqrt(m)\n",
    "    print(f'{m}\\t${call_price:.02f}\\t${put_price:.02f}\\t{std_error}')"
   ]
  },
  {
   "cell_type": "markdown",
   "metadata": {},
   "source": [
    "We haven't been able to figure out why the Monte-Carlo simulation doesn't converge to the others. Adding steps to the path of the stock price doesn't seem to do anything."
   ]
  },
  {
   "cell_type": "code",
   "execution_count": null,
   "metadata": {},
   "outputs": [],
   "source": []
  }
 ],
 "metadata": {
  "kernelspec": {
   "display_name": "Python 3",
   "language": "python",
   "name": "python3"
  },
  "language_info": {
   "codemirror_mode": {
    "name": "ipython",
    "version": 3
   },
   "file_extension": ".py",
   "mimetype": "text/x-python",
   "name": "python",
   "nbconvert_exporter": "python",
   "pygments_lexer": "ipython3",
   "version": "3.7.7"
  }
 },
 "nbformat": 4,
 "nbformat_minor": 4
}
